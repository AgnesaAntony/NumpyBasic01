{
 "cells": [
  {
   "cell_type": "markdown",
   "id": "c20be936-04c5-455b-a768-5ba18007a357",
   "metadata": {},
   "source": [
    "# Numpy"
   ]
  },
  {
   "cell_type": "markdown",
   "id": "f5065a8a-6f0f-4bbc-974c-df6dbf2ed9d5",
   "metadata": {},
   "source": [
    "It is also called as NumericalPython.It is use for data analytics in python.Most of the library are build with c and c++ other will be in python."
   ]
  },
  {
   "cell_type": "code",
   "execution_count": 4,
   "id": "47830ee8-7988-4aa4-852f-a5cbaff91f9f",
   "metadata": {},
   "outputs": [
    {
     "data": {
      "text/plain": [
       "numpy.ndarray"
      ]
     },
     "execution_count": 4,
     "metadata": {},
     "output_type": "execute_result"
    }
   ],
   "source": [
    "import numpy as np\n",
    "arr= np.array([1,3,5,7])\n",
    "arr\n",
    "type(arr)"
   ]
  },
  {
   "cell_type": "code",
   "execution_count": 3,
   "id": "672b1fc2-1d04-4b7e-a775-e7ed646901fe",
   "metadata": {},
   "outputs": [
    {
     "name": "stdout",
     "output_type": "stream",
     "text": [
      "1.26.4\n"
     ]
    }
   ],
   "source": [
    "print(np.__version__) # checking the version"
   ]
  },
  {
   "cell_type": "markdown",
   "id": "b2867cc1-3650-415e-bb59-4fb144fd948e",
   "metadata": {},
   "source": [
    "# Dimension"
   ]
  },
  {
   "cell_type": "code",
   "execution_count": 2,
   "id": "75daf920-147b-4d70-bb9e-7ea9f7563b40",
   "metadata": {},
   "outputs": [
    {
     "data": {
      "text/plain": [
       "array([20])"
      ]
     },
     "execution_count": 2,
     "metadata": {},
     "output_type": "execute_result"
    }
   ],
   "source": [
    "# 0 D\n",
    "import numpy as np\n",
    "arr1= np.array([20])\n",
    "arr1"
   ]
  },
  {
   "cell_type": "code",
   "execution_count": 3,
   "id": "6573bb53-b40d-4bec-9bde-c12114d0d1ec",
   "metadata": {
    "jp-MarkdownHeadingCollapsed": true
   },
   "outputs": [
    {
     "data": {
      "text/plain": [
       "array([2, 3, 4, 5])"
      ]
     },
     "execution_count": 3,
     "metadata": {},
     "output_type": "execute_result"
    }
   ],
   "source": [
    "# 1 D\n",
    "import numpy as np\n",
    "arr2=np.array([2,3,4,5])\n",
    "arr2"
   ]
  },
  {
   "cell_type": "code",
   "execution_count": 4,
   "id": "34b62e6c-1cf6-4787-b968-ea8875d03342",
   "metadata": {},
   "outputs": [
    {
     "data": {
      "text/plain": [
       "array([[1, 2, 3],\n",
       "       [4, 5, 6]])"
      ]
     },
     "execution_count": 4,
     "metadata": {},
     "output_type": "execute_result"
    }
   ],
   "source": [
    "# 2D\n",
    "import numpy as np\n",
    "arr3=np.array([[1,2,3],[4,5,6]])\n",
    "arr3"
   ]
  },
  {
   "cell_type": "code",
   "execution_count": 5,
   "id": "48f39937-9055-4656-af59-0537dbdf2480",
   "metadata": {},
   "outputs": [
    {
     "data": {
      "text/plain": [
       "array([[[1, 0, 3],\n",
       "        [4, 5, 6]],\n",
       "\n",
       "       [[2, 4, 6],\n",
       "        [6, 8, 3]]])"
      ]
     },
     "execution_count": 5,
     "metadata": {},
     "output_type": "execute_result"
    }
   ],
   "source": [
    "#3D\n",
    "import numpy as np \n",
    "arr4=np.array([[[1,0,3],[4,5,6]],[[2,4,6],[6,8,3]]])\n",
    "arr4"
   ]
  },
  {
   "cell_type": "code",
   "execution_count": 8,
   "id": "d530da88-d466-406d-9a1b-abdc56d81144",
   "metadata": {},
   "outputs": [
    {
     "name": "stdout",
     "output_type": "stream",
     "text": [
      "1\n",
      "1\n",
      "2\n",
      "3\n"
     ]
    }
   ],
   "source": [
    "print(arr1.ndim)\n",
    "print(arr2.ndim)\n",
    "print(arr3.ndim)\n",
    "print(arr4.ndim)"
   ]
  },
  {
   "cell_type": "code",
   "execution_count": 1,
   "id": "20301db1-bb7c-4df8-9f57-f247fd76fb94",
   "metadata": {},
   "outputs": [
    {
     "name": "stdout",
     "output_type": "stream",
     "text": [
      "[[[[[1 2 3 4]]]]]\n",
      "5\n"
     ]
    }
   ],
   "source": [
    "import numpy as np\n",
    "a=np.array([1,2,3,4],ndmin=5)\n",
    "print(a)\n",
    "print(a.ndim)"
   ]
  },
  {
   "cell_type": "code",
   "execution_count": 3,
   "id": "837f7ac9-8ab7-4c48-b600-cc7eb1e392b4",
   "metadata": {},
   "outputs": [
    {
     "data": {
      "text/plain": [
       "3"
      ]
     },
     "execution_count": 3,
     "metadata": {},
     "output_type": "execute_result"
    }
   ],
   "source": [
    "import numpy as np\n",
    "a=np.array([1,2,3,4])\n",
    "a[2]"
   ]
  },
  {
   "cell_type": "code",
   "execution_count": 5,
   "id": "84dc3792-e3b3-4b72-a298-2b6a22eb9164",
   "metadata": {},
   "outputs": [
    {
     "data": {
      "text/plain": [
       "4"
      ]
     },
     "execution_count": 5,
     "metadata": {},
     "output_type": "execute_result"
    }
   ],
   "source": [
    "# addition\n",
    "a[0]+a[2]"
   ]
  },
  {
   "cell_type": "code",
   "execution_count": 7,
   "id": "d7495f31-8eb5-4168-8f5f-3d3ea0a84b39",
   "metadata": {},
   "outputs": [
    {
     "data": {
      "text/plain": [
       "-1"
      ]
     },
     "execution_count": 7,
     "metadata": {},
     "output_type": "execute_result"
    }
   ],
   "source": [
    "#numpy indexing subtraction\n",
    "a[1]-a[2]"
   ]
  },
  {
   "cell_type": "code",
   "execution_count": 4,
   "id": "93e88185-fad4-4d13-973d-b930ab0361a7",
   "metadata": {},
   "outputs": [
    {
     "name": "stdout",
     "output_type": "stream",
     "text": [
      "2nd row 2nd element will be 5\n"
     ]
    }
   ],
   "source": [
    " # accessing 2D array\n",
    "import numpy as np\n",
    "ad= np.array([[1,2,3,4],[4,5,7,9]])\n",
    "print(\"2nd row 2nd element will be\",ad[1,1])"
   ]
  },
  {
   "cell_type": "code",
   "execution_count": 7,
   "id": "2e2fbc3e-716e-4a72-b2fc-91cd00bd4ec4",
   "metadata": {},
   "outputs": [
    {
     "name": "stdout",
     "output_type": "stream",
     "text": [
      "0 0\n",
      "7 7\n"
     ]
    }
   ],
   "source": [
    "# Accessing 3D array\n",
    "import numpy as np\n",
    "ax=np.array([[[1,2,3],[4,5,6]],[[7,8,9],[1,0,2]]])\n",
    "print(\"0\",ax[1,1,1])\n",
    "print(\"7\",ax[1,0,0])"
   ]
  },
  {
   "cell_type": "code",
   "execution_count": 8,
   "id": "dc916b57-0f65-4cad-b879-dda97410b46e",
   "metadata": {},
   "outputs": [
    {
     "name": "stdout",
     "output_type": "stream",
     "text": [
      "6 6\n"
     ]
    }
   ],
   "source": [
    "#negative indexing\n",
    "import numpy as np\n",
    "aa= np.array([[1,2,3],[2,5,6]])\n",
    "print(\"6\",aa[1,-1])"
   ]
  },
  {
   "cell_type": "code",
   "execution_count": 9,
   "id": "8c0b6157-939a-4c41-8059-6833d3861a22",
   "metadata": {},
   "outputs": [
    {
     "data": {
      "text/plain": [
       "3"
      ]
     },
     "execution_count": 9,
     "metadata": {},
     "output_type": "execute_result"
    }
   ],
   "source": [
    "import numpy as np\n",
    "ax=np.array([[[1,2,3],[4,5,6]],[[7,8,9],[1,0,2]]])\n",
    "ax[0,-2,-1]"
   ]
  },
  {
   "cell_type": "code",
   "execution_count": 10,
   "id": "6eafa169-82bf-46cc-917c-ba040100c1f6",
   "metadata": {},
   "outputs": [
    {
     "name": "stdout",
     "output_type": "stream",
     "text": [
      "6\n"
     ]
    }
   ],
   "source": [
    "import numpy as np\n",
    "\n",
    "arr = np.array([[[1, 2, 3], [4, 5, 6]], [[7, 8, 9], [10, 11, 12]]])\n",
    "\n",
    "print(arr[0, 1, 2]) "
   ]
  },
  {
   "cell_type": "markdown",
   "id": "23cdbe8c-1427-401a-9d0c-b691d4d5c391",
   "metadata": {},
   "source": [
    "Example Explained\n",
    "\n",
    "arr[0, 1, 2] prints the value 6.\n",
    "\n",
    "And this is why:\n",
    "\n",
    "The first number represents the first dimension, which contains two arrays:\n",
    "[[1, 2, 3], [4, 5, 6]]\n",
    "and:\n",
    "[[7, 8, 9], [10, 11, 12]]\n",
    "Since we selected 0, we are left with the first array:\n",
    "[[1, 2, 3], [4, 5, 6]]\n",
    "\n",
    "The second number represents the second dimension, which also contains two arrays:\n",
    "[1, 2, 3]\n",
    "and:\n",
    "[4, 5, 6]\n",
    "Since we selected 1, we are left with the second array:\n",
    "[4, 5, 6]\n",
    "\n",
    "The third number represents the third dimension, which contains three values:\n",
    "4\n",
    "5\n",
    "6\n",
    "Since we selected 2, we end up with the third value:\n",
    "6a"
   ]
  },
  {
   "cell_type": "markdown",
   "id": "0f29a363-6241-4e28-a96b-46fc901bce5e",
   "metadata": {},
   "source": [
    "# Array slicing"
   ]
  },
  {
   "cell_type": "markdown",
   "id": "3f0a9bd0-e205-41bb-8129-bcbcb64e015d",
   "metadata": {},
   "source": [
    "    We consider array slicing as array_name[start:stop:step]"
   ]
  },
  {
   "cell_type": "code",
   "execution_count": 2,
   "id": "3f140cf2-d1f1-44ea-bce0-8fd2fc369e32",
   "metadata": {},
   "outputs": [
    {
     "data": {
      "text/plain": [
       "array([4, 5])"
      ]
     },
     "execution_count": 2,
     "metadata": {},
     "output_type": "execute_result"
    }
   ],
   "source": [
    "import numpy as np\n",
    "a1=np.array([3,4,5,6])\n",
    "a1[1:3]"
   ]
  },
  {
   "cell_type": "code",
   "execution_count": 3,
   "id": "30d2522e-4247-41cf-86f2-4962fddb0b34",
   "metadata": {},
   "outputs": [
    {
     "data": {
      "text/plain": [
       "array([3, 4])"
      ]
     },
     "execution_count": 3,
     "metadata": {},
     "output_type": "execute_result"
    }
   ],
   "source": [
    "a1[:2]"
   ]
  },
  {
   "cell_type": "markdown",
   "id": "ec994c9e-6c5b-4003-8572-8aa37bcb20d1",
   "metadata": {},
   "source": [
    "# Negative slicing"
   ]
  },
  {
   "cell_type": "code",
   "execution_count": 5,
   "id": "a63824df-9479-4981-ade8-17bac9257492",
   "metadata": {},
   "outputs": [
    {
     "data": {
      "text/plain": [
       "array([2, 3, 4, 5, 6, 7, 8, 9])"
      ]
     },
     "execution_count": 5,
     "metadata": {},
     "output_type": "execute_result"
    }
   ],
   "source": [
    "import numpy as np\n",
    "a2=np.array([1,2,3,4,5,6,7,8,9,0])\n",
    "a2[-9:-1]"
   ]
  },
  {
   "cell_type": "code",
   "execution_count": 7,
   "id": "2ac2dea2-41cc-4cf1-b614-999099a962b0",
   "metadata": {},
   "outputs": [
    {
     "data": {
      "text/plain": [
       "array([1, 3, 5, 7, 9])"
      ]
     },
     "execution_count": 7,
     "metadata": {},
     "output_type": "execute_result"
    }
   ],
   "source": [
    "a2[0:9:2]"
   ]
  },
  {
   "cell_type": "code",
   "execution_count": 8,
   "id": "9a140768-cae0-4934-a021-24c88d252ca5",
   "metadata": {},
   "outputs": [
    {
     "data": {
      "text/plain": [
       "array([1, 3, 5, 7, 9])"
      ]
     },
     "execution_count": 8,
     "metadata": {},
     "output_type": "execute_result"
    }
   ],
   "source": [
    "a2[::2]"
   ]
  },
  {
   "cell_type": "code",
   "execution_count": 10,
   "id": "9d44e320-ad23-493b-9615-9a8fab466b47",
   "metadata": {},
   "outputs": [
    {
     "data": {
      "text/plain": [
       "array([7, 8])"
      ]
     },
     "execution_count": 10,
     "metadata": {},
     "output_type": "execute_result"
    }
   ],
   "source": [
    "import numpy as nnp\n",
    "a1=np.array([[1,2,3,4],[5,6,7,8]])\n",
    "a1[1,2:4]"
   ]
  },
  {
   "cell_type": "code",
   "execution_count": 11,
   "id": "f0168bc8-f8bc-4b8a-bc48-1b3dd1207d50",
   "metadata": {},
   "outputs": [
    {
     "data": {
      "text/plain": [
       "array([[3, 4],\n",
       "       [7, 8]])"
      ]
     },
     "execution_count": 11,
     "metadata": {},
     "output_type": "execute_result"
    }
   ],
   "source": [
    "a1[0:3,2:4]"
   ]
  },
  {
   "cell_type": "code",
   "execution_count": 4,
   "id": "6068eaa0-5389-4a03-b3bd-a91397084d10",
   "metadata": {},
   "outputs": [
    {
     "name": "stdout",
     "output_type": "stream",
     "text": [
      "int32\n"
     ]
    }
   ],
   "source": [
    "import numpy as np\n",
    "arr3=np.array([1,2,3,4])\n",
    "print(arr3.dtype)"
   ]
  },
  {
   "cell_type": "code",
   "execution_count": 6,
   "id": "ef1ace45-8916-4eef-9dce-417a00ebd8f5",
   "metadata": {},
   "outputs": [
    {
     "name": "stdout",
     "output_type": "stream",
     "text": [
      "<U6\n"
     ]
    }
   ],
   "source": [
    "import numpy as np\n",
    "a2=np.array([\"Apple\",\"Mango\",\"papaya\"])\n",
    "print(a2.dtype)"
   ]
  },
  {
   "cell_type": "code",
   "execution_count": 1,
   "id": "c1603fdb-5482-4711-b03c-22d9c3adc4f7",
   "metadata": {},
   "outputs": [
    {
     "name": "stdout",
     "output_type": "stream",
     "text": [
      "int32\n"
     ]
    }
   ],
   "source": [
    "import numpy as np\n",
    "a3=np.array([1,2,3,4,5])\n",
    "print(a3.dtype)"
   ]
  },
  {
   "cell_type": "markdown",
   "id": "75da3869-0e95-42da-83a3-5ad847ed435d",
   "metadata": {},
   "source": [
    "# Converting string to number"
   ]
  },
  {
   "cell_type": "code",
   "execution_count": 2,
   "id": "8dcddb97-e91c-45e3-90cf-0dd7ccf3cc7c",
   "metadata": {},
   "outputs": [
    {
     "name": "stdout",
     "output_type": "stream",
     "text": [
      "[1 2 3 4]\n",
      "int32\n"
     ]
    }
   ],
   "source": [
    "import numpy as np\n",
    "a1=np.array(['1','2','3','4'],dtype='i')\n",
    "print(a1)\n",
    "print(a1.dtype)"
   ]
  },
  {
   "cell_type": "code",
   "execution_count": 4,
   "id": "cf72d560-739d-404c-8349-98c4b4cd9009",
   "metadata": {},
   "outputs": [
    {
     "name": "stdout",
     "output_type": "stream",
     "text": [
      "[1 2 3 4 5]\n",
      "[ 1  2 33  4  5]\n"
     ]
    }
   ],
   "source": [
    "# copy()->create a duplicate copy of orignial but any modification doesnot affect the original\n",
    "import numpy as np\n",
    "a4=np.array([1,2,3,4,5])\n",
    "new_ar=np.copy(a4)\n",
    "new_ar[2]=33\n",
    "print(a4)\n",
    "print(new_ar)"
   ]
  },
  {
   "cell_type": "code",
   "execution_count": 9,
   "id": "d4cef574-6416-471c-8001-a6fb861f8f43",
   "metadata": {},
   "outputs": [
    {
     "name": "stdout",
     "output_type": "stream",
     "text": [
      "[ 1  2 33  4  6]\n"
     ]
    }
   ],
   "source": [
    "# view() can be viewed the orignal list if any modification happens it affect the original list too\n",
    "import numpy as np\n",
    "a5=np.array([1,2,3,4,6])\n",
    "a5.view()\n",
    "a5[2]=33\n",
    "print(a5)\n"
   ]
  },
  {
   "cell_type": "code",
   "execution_count": 10,
   "id": "ea8101c5-29e8-4a40-ac28-661ae489ec0c",
   "metadata": {},
   "outputs": [
    {
     "data": {
      "text/plain": [
       "array([ 1,  2, 33,  4,  6])"
      ]
     },
     "execution_count": 10,
     "metadata": {},
     "output_type": "execute_result"
    }
   ],
   "source": [
    "a5.view()"
   ]
  },
  {
   "cell_type": "code",
   "execution_count": 14,
   "id": "1768dd49-7db5-4a01-acb1-9f5ddc9cdfd0",
   "metadata": {},
   "outputs": [
    {
     "name": "stdout",
     "output_type": "stream",
     "text": [
      "['3' '4' '5' '6' '7']\n"
     ]
    }
   ],
   "source": [
    "# converting a integer to string without short form such as 'S','U','i','f'\n",
    "import numpy as np\n",
    "a6=np.array([3,4,5,6,7])\n",
    "b=a6.astype('str')\n",
    "print(b)\n"
   ]
  },
  {
   "cell_type": "code",
   "execution_count": 15,
   "id": "bab0378b-5d62-40f1-861a-de7280486323",
   "metadata": {},
   "outputs": [
    {
     "name": "stdout",
     "output_type": "stream",
     "text": [
      "[1 2 3 4 5 6 7]\n",
      "None\n"
     ]
    }
   ],
   "source": [
    "# base-> none means it has duplicated data\n",
    "import numpy as np\n",
    "a7=np.array([1,2,3,4,5,6,7])\n",
    "b=a7.view()\n",
    "c=a7.copy()\n",
    "print(b.base)\n",
    "print(c.base)"
   ]
  },
  {
   "cell_type": "markdown",
   "id": "168a3aa7-2588-4784-ac79-00787e04795a",
   "metadata": {},
   "source": [
    "# Shape of the Array"
   ]
  },
  {
   "cell_type": "code",
   "execution_count": 18,
   "id": "ed3c5338-84e7-4055-aca0-f47fee38e29a",
   "metadata": {},
   "outputs": [
    {
     "data": {
      "text/plain": [
       "(2, 5)"
      ]
     },
     "execution_count": 18,
     "metadata": {},
     "output_type": "execute_result"
    }
   ],
   "source": [
    "import numpy as np\n",
    "a8=np.array([[3,4,5,6,7],[8,9,0,1,2]])\n",
    "a8.shape"
   ]
  },
  {
   "cell_type": "code",
   "execution_count": 20,
   "id": "7a9abb20-1015-4947-8032-bd4a90a4691a",
   "metadata": {},
   "outputs": [
    {
     "name": "stdout",
     "output_type": "stream",
     "text": [
      "[[[[[1 2 3 4]]]]]\n",
      "(1, 1, 1, 1, 4)\n"
     ]
    }
   ],
   "source": [
    "import numpy as np\n",
    "a8=np.array([1,2,3,4],ndmin=5)\n",
    "print(a8)\n",
    "print(a8.shape)"
   ]
  },
  {
   "cell_type": "code",
   "execution_count": 2,
   "id": "3d0bfbee-7749-4584-ab4e-3054db74503c",
   "metadata": {},
   "outputs": [
    {
     "data": {
      "text/plain": [
       "array([[ 1,  2,  3],\n",
       "       [ 4,  5,  6],\n",
       "       [ 7,  8,  9],\n",
       "       [10, 11, 12]])"
      ]
     },
     "execution_count": 2,
     "metadata": {},
     "output_type": "execute_result"
    }
   ],
   "source": [
    "#ReShaping the Array\n",
    "import numpy as np\n",
    "a9=np.array([1,2,3,4,5,6,7,8,9,10,11,12])\n",
    "a9.reshape(4,3)"
   ]
  },
  {
   "cell_type": "code",
   "execution_count": 4,
   "id": "ccbe342e-6a72-40da-83f0-339e4536cd20",
   "metadata": {},
   "outputs": [
    {
     "name": "stdout",
     "output_type": "stream",
     "text": [
      "[[[ 1  2]\n",
      "  [ 3  4]\n",
      "  [ 5  6]]\n",
      "\n",
      " [[ 7  8]\n",
      "  [ 9 10]\n",
      "  [11 12]]]\n"
     ]
    }
   ],
   "source": [
    "import numpy as np\n",
    "b1=np.array([1,2,3,4,5,6,7,8,9,10,11,12])\n",
    "new_b=b1.reshape(2,3,2)\n",
    "print(new_b)"
   ]
  },
  {
   "cell_type": "code",
   "execution_count": 8,
   "id": "379ef6c6-36f7-483a-b801-0a4eb23dd793",
   "metadata": {},
   "outputs": [
    {
     "name": "stdout",
     "output_type": "stream",
     "text": [
      "None\n"
     ]
    }
   ],
   "source": [
    "import numpy as np\n",
    "b2=np.array([1,2,3,4,5,6,7,8,9,10,11,12])\n",
    "new_b2=b2.reshape(3,4) # copy\n",
    "print(b2.base)"
   ]
  },
  {
   "cell_type": "code",
   "execution_count": 9,
   "id": "f21e20bd-b687-4346-81da-6244c7b201e1",
   "metadata": {},
   "outputs": [
    {
     "name": "stdout",
     "output_type": "stream",
     "text": [
      "[1 2 3 4 6 3 4 8]\n"
     ]
    }
   ],
   "source": [
    "import numpy as np\n",
    "b3=np.array([[1,2,3,4],[6,3,4,8]])\n",
    "print(b3.reshape(-1))"
   ]
  },
  {
   "cell_type": "code",
   "execution_count": 12,
   "id": "3001b609-9afa-4bcc-8cbd-3f1625d9a1f4",
   "metadata": {},
   "outputs": [
    {
     "name": "stdout",
     "output_type": "stream",
     "text": [
      "Antony\n",
      "Celin\n",
      "Stella\n",
      "Rani\n",
      "Agnesa\n",
      "Anton\n",
      "Sumith\n"
     ]
    }
   ],
   "source": [
    "# loop-ing\n",
    "import numpy as np\n",
    "AS_family=[\"Antony\",\"Celin\",\"Stella\",\"Rani\",\"Agnesa\",\"Anton\",\"Sumith\"]\n",
    "for i in AS_family:\n",
    "    print(i)"
   ]
  },
  {
   "cell_type": "code",
   "execution_count": 17,
   "id": "8f0cf185-856f-4679-848e-621e387741d3",
   "metadata": {},
   "outputs": [
    {
     "name": "stdout",
     "output_type": "stream",
     "text": [
      "[1 2 3 4]\n",
      "[5 6 7 8]\n"
     ]
    }
   ],
   "source": [
    "# iterate 2-D array\n",
    "import numpy as np\n",
    "b4=np.array([[1,2,3,4],[5,6,7,8]])\n",
    "for x in b4:\n",
    "    print(x)"
   ]
  },
  {
   "cell_type": "code",
   "execution_count": 18,
   "id": "c84ad2e5-ac23-4bce-9f6a-09d3ee057190",
   "metadata": {},
   "outputs": [
    {
     "name": "stdout",
     "output_type": "stream",
     "text": [
      "1\n",
      "2\n",
      "3\n",
      "4\n",
      "5\n",
      "6\n",
      "7\n",
      "8\n"
     ]
    }
   ],
   "source": [
    "import numpy as np\n",
    "b5=np.array([[1,2,3,4],[5,6,7,8]])\n",
    "for i in b5:\n",
    "    for j in i:\n",
    "        print(j)"
   ]
  },
  {
   "cell_type": "code",
   "execution_count": 19,
   "id": "0a82c064-c427-4299-89c5-28321a240752",
   "metadata": {},
   "outputs": [
    {
     "name": "stdout",
     "output_type": "stream",
     "text": [
      "[[1 2 3]\n",
      " [4 5 6]\n",
      " [7 8 9]]\n"
     ]
    }
   ],
   "source": [
    "# 3D \n",
    "import numpy as np\n",
    "b6=np.array([[[1,2,3],[4,5,6],[7,8,9]]])\n",
    "for c in b6:\n",
    "    print(c)"
   ]
  },
  {
   "cell_type": "code",
   "execution_count": 20,
   "id": "dba64867-a28d-4277-b101-117a706b56cf",
   "metadata": {},
   "outputs": [
    {
     "name": "stdout",
     "output_type": "stream",
     "text": [
      "1\n",
      "2\n",
      "3\n",
      "4\n",
      "5\n",
      "6\n",
      "7\n",
      "8\n",
      "9\n"
     ]
    }
   ],
   "source": [
    "# 3D \n",
    "import numpy as np\n",
    "b7=np.array([[[1,2,3],[4,5,6],[7,8,9]]])\n",
    "for c in b7:\n",
    "    for d in  c:\n",
    "        for e in d:\n",
    "            print(e)"
   ]
  },
  {
   "cell_type": "markdown",
   "id": "dbe64d9f-3774-4083-8168-8d94e4917014",
   "metadata": {},
   "source": [
    "# Joining two array"
   ]
  },
  {
   "cell_type": "code",
   "execution_count": 5,
   "id": "23d8a778-00dd-43fd-9396-db42b24d99b8",
   "metadata": {},
   "outputs": [
    {
     "name": "stdout",
     "output_type": "stream",
     "text": [
      "[1 2 3 4 5 6 7 8]\n"
     ]
    }
   ],
   "source": [
    "import numpy as np\n",
    "a=np.array([1,2,3,4])\n",
    "b=np.array([5,6,7,8])\n",
    "c=np.concatenate((a,b))\n",
    "print(c)"
   ]
  },
  {
   "cell_type": "markdown",
   "id": "d8547a71-5d22-41c0-b941-9600ecf04404",
   "metadata": {},
   "source": [
    "# Joining through Stack function"
   ]
  },
  {
   "cell_type": "code",
   "execution_count": 7,
   "id": "9c82b527-fced-4909-82a5-ff78950c3529",
   "metadata": {},
   "outputs": [
    {
     "name": "stdout",
     "output_type": "stream",
     "text": [
      "[[ 5 10 15 20]\n",
      " [ 3  6  9 12]]\n"
     ]
    }
   ],
   "source": [
    "import numpy as np\n",
    "d=np.array([5,10,15,20])\n",
    "e=np.array([3,6,9,12])\n",
    "f=np.stack((d,e),axis=0)\n",
    "print(f)"
   ]
  },
  {
   "cell_type": "code",
   "execution_count": 9,
   "id": "719df9f5-7398-4a8b-bbb9-60e07bd16c55",
   "metadata": {},
   "outputs": [
    {
     "name": "stdout",
     "output_type": "stream",
     "text": [
      "[ 1  2  3  4  5  2  4  6  8 10]\n"
     ]
    }
   ],
   "source": [
    "# stacking alongrows ->hstack\n",
    "import numpy as np\n",
    "g=np.array([1,2,3,4,5])\n",
    "h=np.array([2,4,6,8,10])\n",
    "i=np.hstack((g,h))\n",
    "print(i)"
   ]
  },
  {
   "cell_type": "code",
   "execution_count": 12,
   "id": "ca1cc7a9-d684-48d0-9ea2-a52558fbf73d",
   "metadata": {},
   "outputs": [
    {
     "name": "stdout",
     "output_type": "stream",
     "text": [
      "[[ 1  2  3  4  5]\n",
      " [ 2  4  6  8 10]]\n"
     ]
    }
   ],
   "source": [
    "# vstack-> column\n",
    "import numpy as np\n",
    "g=np.array([1,2,3,4,5])\n",
    "h=np.array([2,4,6,8,10])\n",
    "i=np.vstack((g,h))\n",
    "print(i)"
   ]
  },
  {
   "cell_type": "code",
   "execution_count": 14,
   "id": "f944055b-db1a-4680-bd03-5fb3d43146b6",
   "metadata": {},
   "outputs": [
    {
     "name": "stdout",
     "output_type": "stream",
     "text": [
      "[[[ 1  2]\n",
      "  [ 2  4]\n",
      "  [ 3  6]\n",
      "  [ 4  8]\n",
      "  [ 5 10]]]\n"
     ]
    }
   ],
   "source": [
    "# dstack -> column and row\n",
    "import numpy as np\n",
    "g=np.array([1,2,3,4,5])\n",
    "h=np.array([2,4,6,8,10])\n",
    "i=np.dstack((g,h))\n",
    "print(i)"
   ]
  },
  {
   "cell_type": "markdown",
   "id": "17903275-a270-44fd-8ae4-f57b2562a34b",
   "metadata": {},
   "source": [
    "# Splitting of an array"
   ]
  },
  {
   "cell_type": "code",
   "execution_count": 19,
   "id": "86753240-a3c1-4475-be93-352856b28779",
   "metadata": {},
   "outputs": [
    {
     "name": "stdout",
     "output_type": "stream",
     "text": [
      "[array([1, 2, 3]), array([4, 5, 6]), array([7, 8, 9])]\n"
     ]
    }
   ],
   "source": [
    "import numpy as np\n",
    "j=np.array([1,2,3,4,5,6,7,8,9])\n",
    "k=np.array_split(j,3)\n",
    "print(k)"
   ]
  },
  {
   "cell_type": "code",
   "execution_count": 22,
   "id": "024f7aca-b69e-4da1-9cc5-63997c69c21e",
   "metadata": {},
   "outputs": [
    {
     "name": "stdout",
     "output_type": "stream",
     "text": [
      "[array([1, 2]), array([3, 4]), array([5, 6]), array([7]), array([8]), array([9])]\n"
     ]
    }
   ],
   "source": [
    "# if we need the same array to be spiltted it will split accordingly\n",
    "import numpy as np\n",
    "j=np.array([1,2,3,4,5,6,7,8,9])\n",
    "k=np.array_split(j,6)\n",
    "print(k)"
   ]
  },
  {
   "cell_type": "code",
   "execution_count": 23,
   "id": "7c1c2ddd-0240-4309-9474-765cc5f6eddf",
   "metadata": {},
   "outputs": [
    {
     "name": "stdout",
     "output_type": "stream",
     "text": [
      "[1 2 3]\n",
      "[4 5 6]\n",
      "[7 8 9]\n"
     ]
    }
   ],
   "source": [
    "# if we need the same array to be spiltted it will split accordingly\n",
    "import numpy as np\n",
    "j=np.array([1,2,3,4,5,6,7,8,9])\n",
    "k=np.array_split(j,3)\n",
    "print(k[0])\n",
    "print(k[1])\n",
    "print(k[2])"
   ]
  },
  {
   "cell_type": "code",
   "execution_count": 24,
   "id": "922fa71d-db56-4afc-abb2-ba034af73997",
   "metadata": {},
   "outputs": [
    {
     "name": "stdout",
     "output_type": "stream",
     "text": [
      "[array([[2, 3],\n",
      "       [4, 5],\n",
      "       [6, 7]]), array([[ 8,  9],\n",
      "       [10, 11]]), array([[23, 43],\n",
      "       [ 2,  3]])]\n"
     ]
    }
   ],
   "source": [
    "# splitting 2D array\n",
    "import numpy as np\n",
    "l=np.array([[2,3],[4,5],[6,7],[8,9],[10,11],[23,43],[2,3]])\n",
    "m=np.array_split(l,3)\n",
    "print(m)"
   ]
  },
  {
   "cell_type": "code",
   "execution_count": 2,
   "id": "39e6d2cd-a369-46af-873e-9c659e181f4f",
   "metadata": {},
   "outputs": [
    {
     "name": "stdout",
     "output_type": "stream",
     "text": [
      "[array([[2],\n",
      "       [4],\n",
      "       [9],\n",
      "       [4]]), array([[3],\n",
      "       [5],\n",
      "       [3],\n",
      "       [5]])]\n"
     ]
    }
   ],
   "source": [
    "#hsplit is opposite to hstack\n",
    "import numpy as np\n",
    "n=np.array([[2,3],[4,5],[9,3],[4,5]])\n",
    "o=np.hsplit(n,2)\n",
    "print(o)"
   ]
  },
  {
   "cell_type": "markdown",
   "id": "dd990eab-bd24-4c21-bf18-ec1cd40625a8",
   "metadata": {},
   "source": [
    "# Array Search"
   ]
  },
  {
   "cell_type": "code",
   "execution_count": 4,
   "id": "45a8a0fa-5ce5-41c4-89db-4048da722d59",
   "metadata": {},
   "outputs": [
    {
     "name": "stdout",
     "output_type": "stream",
     "text": [
      "(array([4], dtype=int64),)\n"
     ]
    }
   ],
   "source": [
    "import numpy as np\n",
    "arr=np.array([2,3,4,5,6])\n",
    "x=np.where(arr==6)\n",
    "print(x)"
   ]
  },
  {
   "cell_type": "code",
   "execution_count": 7,
   "id": "36515060-e7a8-4945-b98f-e3b194668206",
   "metadata": {},
   "outputs": [
    {
     "name": "stdout",
     "output_type": "stream",
     "text": [
      "(array([3], dtype=int64),)\n"
     ]
    }
   ],
   "source": [
    "# finding the index where the values are even\n",
    "import numpy as np\n",
    "arr2=np.array([1,3,5,8,9])\n",
    "cc=np.where(arr2%2==0)\n",
    "print(cc)"
   ]
  },
  {
   "cell_type": "code",
   "execution_count": 12,
   "id": "9e92abda-a136-43e9-9c2b-64123da11f32",
   "metadata": {},
   "outputs": [
    {
     "name": "stdout",
     "output_type": "stream",
     "text": [
      "7\n"
     ]
    }
   ],
   "source": [
    "#search sorted-> gives where the element should be inserted to maintain correct order\n",
    "import numpy as np\n",
    "arr3=np.array([1,2,3,4,5,6,7])\n",
    "a=np.searchsorted(arr3,8)\n",
    "print(a)"
   ]
  },
  {
   "cell_type": "code",
   "execution_count": 16,
   "id": "fef92d1e-0330-489a-b890-c1629685303b",
   "metadata": {},
   "outputs": [
    {
     "name": "stdout",
     "output_type": "stream",
     "text": [
      "[0 1 3]\n"
     ]
    }
   ],
   "source": [
    "import numpy as np\n",
    "q=np.array([3,7,8])\n",
    "h=np.searchsorted(q,[2,4,9])\n",
    "print(h)"
   ]
  },
  {
   "cell_type": "markdown",
   "id": "f7454ab6-226a-441f-8f16-28f4f863ba6b",
   "metadata": {},
   "source": [
    "# Sort"
   ]
  },
  {
   "cell_type": "code",
   "execution_count": 2,
   "id": "adf15f5d-256c-4f78-a5c4-d707df09386b",
   "metadata": {},
   "outputs": [
    {
     "data": {
      "text/plain": [
       "array([  4,  22,  89, 257])"
      ]
     },
     "execution_count": 2,
     "metadata": {},
     "output_type": "execute_result"
    }
   ],
   "source": [
    "import numpy as np\n",
    "arr2=np.array([89,257,22,4])\n",
    "np.sort(arr2)"
   ]
  },
  {
   "cell_type": "code",
   "execution_count": 3,
   "id": "f2bb77de-c6f0-4366-8ca0-18d67588f6f0",
   "metadata": {},
   "outputs": [
    {
     "data": {
      "text/plain": [
       "array(['Apple', 'Lemons', 'Mango', 'Pine Apple'], dtype='<U10')"
      ]
     },
     "execution_count": 3,
     "metadata": {},
     "output_type": "execute_result"
    }
   ],
   "source": [
    "import numpy as np\n",
    "arr3=np.array([\"Apple\",\"Mango\",\"Lemons\",\"Pine Apple\"])\n",
    "np.sort(arr3)"
   ]
  },
  {
   "cell_type": "code",
   "execution_count": 4,
   "id": "303d6181-a6a8-45a8-877a-ffcf5a77a5ee",
   "metadata": {},
   "outputs": [
    {
     "data": {
      "text/plain": [
       "array([False, False,  True,  True])"
      ]
     },
     "execution_count": 4,
     "metadata": {},
     "output_type": "execute_result"
    }
   ],
   "source": [
    "import numpy as np\n",
    "arr4=np.array([True,False,True,False])\n",
    "np.sort(arr4)"
   ]
  },
  {
   "cell_type": "code",
   "execution_count": 6,
   "id": "c1a767c5-e03d-423e-b964-b9a5fd2e975f",
   "metadata": {},
   "outputs": [
    {
     "data": {
      "text/plain": [
       "array([[ 22,  45,  77,  93],\n",
       "       [  5,  17, 432, 789]])"
      ]
     },
     "execution_count": 6,
     "metadata": {},
     "output_type": "execute_result"
    }
   ],
   "source": [
    "# sorting in 2D array\n",
    "import numpy as np\n",
    "arr4=np.array([[93,45,77,22],[789,432,17,5]])\n",
    "np.sort(arr4)"
   ]
  },
  {
   "cell_type": "markdown",
   "id": "3c9a0332-fd6e-4962-9e21-7f2aef2491bd",
   "metadata": {},
   "source": [
    "# Filters"
   ]
  },
  {
   "cell_type": "markdown",
   "id": "cce3b03a-459d-4a3a-8b48-cd29ab57f01a",
   "metadata": {},
   "source": [
    "    Filters is the process of making a new array from existing array"
   ]
  },
  {
   "cell_type": "code",
   "execution_count": 8,
   "id": "f76e8145-764e-459a-b979-eed579a2e2ae",
   "metadata": {},
   "outputs": [
    {
     "name": "stdout",
     "output_type": "stream",
     "text": [
      "[22 99]\n"
     ]
    }
   ],
   "source": [
    "#Using boolean indexing\n",
    "import numpy as np\n",
    "arr4=np.array([22,44,11,99])\n",
    "new=[True,False,False,True]\n",
    "x=arr4[new]\n",
    "print(x)"
   ]
  },
  {
   "cell_type": "code",
   "execution_count": 10,
   "id": "444bb0a5-f237-452b-a979-7142ca703944",
   "metadata": {},
   "outputs": [
    {
     "name": "stdout",
     "output_type": "stream",
     "text": [
      "[False, False, True, True]\n",
      "[695 533]\n"
     ]
    }
   ],
   "source": [
    "# creating an odd filter\n",
    "import numpy as np\n",
    "arr5=np.array([100,298,695,533])\n",
    "index=[]\n",
    "for elements in arr5:\n",
    "    if elements%2!=0:\n",
    "        index.append(True)\n",
    "    else:\n",
    "        index.append(False)\n",
    "print(index)\n",
    "print(arr5[index])"
   ]
  },
  {
   "cell_type": "markdown",
   "id": "d5410c21-d8a0-41e3-b417-54bcdee3f442",
   "metadata": {},
   "source": [
    "# Generating a random number"
   ]
  },
  {
   "cell_type": "markdown",
   "id": "dcf0bd09-6f0d-412d-a5b0-a177b6065af9",
   "metadata": {},
   "source": [
    "    Random number can be generated by a function or module in numpy."
   ]
  },
  {
   "cell_type": "code",
   "execution_count": 11,
   "id": "d78b348c-83c6-4ff1-9468-01439147597f",
   "metadata": {},
   "outputs": [
    {
     "name": "stdout",
     "output_type": "stream",
     "text": [
      "84\n"
     ]
    }
   ],
   "source": [
    "from numpy import  random\n",
    "ar=random.randint(100)\n",
    "print(ar)"
   ]
  },
  {
   "cell_type": "code",
   "execution_count": 12,
   "id": "3de90560-5d2e-4a75-94a9-822920e107ff",
   "metadata": {},
   "outputs": [
    {
     "name": "stdout",
     "output_type": "stream",
     "text": [
      "[0.7585429  0.21202792 0.39985745 0.96634151 0.13547106 0.22583504\n",
      " 0.73504064 0.78633198 0.53232674 0.71522926 0.30373008 0.29781064\n",
      " 0.94867245 0.22086224 0.98669312 0.76156039 0.69045553 0.38673801\n",
      " 0.27685804 0.75836115 0.78378981 0.18472136 0.79645722 0.48297782\n",
      " 0.15396797 0.09606048 0.10430361 0.77316711 0.91413066 0.78823652\n",
      " 0.59804789 0.11780999 0.86649622 0.39117149 0.41588022 0.66893288\n",
      " 0.05163643 0.08280673 0.56796142 0.20506171 0.35062309 0.07251553\n",
      " 0.66727925 0.62376123 0.70480611 0.61491262 0.27774447 0.7447761\n",
      " 0.60551062 0.12247316]\n"
     ]
    }
   ],
   "source": [
    "# generating a random float\n",
    "from numpy import random\n",
    "a2=random.rand(50)\n",
    "print(a2)"
   ]
  },
  {
   "cell_type": "code",
   "execution_count": 13,
   "id": "2d784aa6-a4ca-47cb-86cc-58359cf39a6b",
   "metadata": {},
   "outputs": [
    {
     "name": "stdout",
     "output_type": "stream",
     "text": [
      "0.766727754445763\n"
     ]
    }
   ],
   "source": [
    "# rand () method return the boolean value from 0 to 1\n",
    "from numpy import random\n",
    "arr22=random.rand()\n",
    "print(arr22)"
   ]
  },
  {
   "cell_type": "code",
   "execution_count": 14,
   "id": "bd5cea88-b504-4634-b01d-d92ba0a3dfc0",
   "metadata": {},
   "outputs": [
    {
     "data": {
      "text/plain": [
       "array([17, 13,  4,  8,  7])"
      ]
     },
     "execution_count": 14,
     "metadata": {},
     "output_type": "execute_result"
    }
   ],
   "source": [
    "# making random array\n",
    "from numpy import random\n",
    "r=random.randint(20,size=5)\n",
    "r"
   ]
  },
  {
   "cell_type": "code",
   "execution_count": 15,
   "id": "85324926-e016-4804-b117-4f6042a8cf72",
   "metadata": {},
   "outputs": [
    {
     "data": {
      "text/plain": [
       "array([[48, 97, 38, 40, 43, 40],\n",
       "       [47, 59, 80,  8, 44, 44],\n",
       "       [74, 10, 22, 98, 97, 97],\n",
       "       [50, 35, 51, 36, 76, 19]])"
      ]
     },
     "execution_count": 15,
     "metadata": {},
     "output_type": "execute_result"
    }
   ],
   "source": [
    "from numpy import random\n",
    "r2=random.randint(100,size=(4,6))\n",
    "r2\n"
   ]
  },
  {
   "cell_type": "markdown",
   "id": "85f0f056-8973-4556-94ca-2436f80d61eb",
   "metadata": {},
   "source": [
    "# Choice()"
   ]
  },
  {
   "cell_type": "markdown",
   "id": "873b0b0f-647c-446d-8ff7-429a37aba535",
   "metadata": {},
   "source": [
    "    It is used to pick a randam number from series of array"
   ]
  },
  {
   "cell_type": "code",
   "execution_count": 16,
   "id": "117894b8-79d9-4285-9a9f-1e47d3b203f4",
   "metadata": {},
   "outputs": [
    {
     "data": {
      "text/plain": [
       "72"
      ]
     },
     "execution_count": 16,
     "metadata": {},
     "output_type": "execute_result"
    }
   ],
   "source": [
    "from numpy import random\n",
    "a=random.choice([58,24,72,-24])\n",
    "a"
   ]
  },
  {
   "cell_type": "code",
   "execution_count": 17,
   "id": "0c255d82-423b-4c70-a03b-0821ac81cdbf",
   "metadata": {},
   "outputs": [
    {
     "data": {
      "text/plain": [
       "array([[13, 22],\n",
       "       [23, 23]])"
      ]
     },
     "execution_count": 17,
     "metadata": {},
     "output_type": "execute_result"
    }
   ],
   "source": [
    "from numpy import random\n",
    "a=random.choice([22,56,13,23,72],size=(2,2))\n",
    "a\n"
   ]
  },
  {
   "cell_type": "code",
   "execution_count": 3,
   "id": "88d08985-7e3e-47bf-86bf-52215ce28fd3",
   "metadata": {},
   "outputs": [
    {
     "name": "stdout",
     "output_type": "stream",
     "text": [
      "[3 5 5 3 3 7 5 3 9 7 5 5 3 7 5 5 7 3 3 5 5 7 5 7 3 3 3 3 5 5 3 7 5 7 7 3 9\n",
      " 3 7 5 7 5 3 5 5 7 3 7 5 5 5 7 3 5 5 3 7 7 5 9 3 5 5 7 5 9 9 5 9 7 5 5 3 5\n",
      " 9 5 7 3 5 7 3 9 7 9 5 3 3 3 3 7 5 5 3 5 5 5 5 5 7 5]\n"
     ]
    }
   ],
   "source": [
    "from numpy import random\n",
    "a=random.choice([3,5,7,9],p=[0.3,0.4,0.2,0.1],size=(100))\n",
    "print(a)"
   ]
  },
  {
   "cell_type": "markdown",
   "id": "59ff3a20-2f2f-45ba-84c3-e9732b820e64",
   "metadata": {},
   "source": [
    "# Shuffle"
   ]
  },
  {
   "cell_type": "code",
   "execution_count": 9,
   "id": "035e7ffb-b22f-4bec-8ae1-381b2154d165",
   "metadata": {},
   "outputs": [
    {
     "name": "stdout",
     "output_type": "stream",
     "text": [
      "[6 2 8 7 5 1 3 4]\n"
     ]
    }
   ],
   "source": [
    "from numpy import random\n",
    "import numpy as np\n",
    "\n",
    "ar=np.array([1,2,3,4,5,6,7,8])\n",
    "\n",
    "print(random.permutation(ar))\n"
   ]
  },
  {
   "cell_type": "markdown",
   "id": "eb7f62ff-f31b-450c-af83-c92b7f768072",
   "metadata": {},
   "source": [
    "1. random()-> changes the original array\n",
    "2. random.permutation-> does not change the original array"
   ]
  },
  {
   "cell_type": "code",
   "execution_count": 10,
   "id": "8de8495e-8bb8-4a34-969a-345fd0681714",
   "metadata": {},
   "outputs": [
    {
     "name": "stdout",
     "output_type": "stream",
     "text": [
      "[1 2 3 4 5 6 7 8]\n"
     ]
    }
   ],
   "source": [
    "print(ar)"
   ]
  },
  {
   "cell_type": "code",
   "execution_count": 13,
   "id": "98468a0b-a305-4c68-9758-930a730585c0",
   "metadata": {},
   "outputs": [
    {
     "name": "stdout",
     "output_type": "stream",
     "text": [
      "[7 5 4 2 8 1 3 6]\n"
     ]
    }
   ],
   "source": [
    "random.shuffle(ar)\n",
    "print(ar)"
   ]
  },
  {
   "cell_type": "code",
   "execution_count": 15,
   "id": "ffa3622a-407f-4906-adc9-abbb54f02132",
   "metadata": {},
   "outputs": [
    {
     "data": {
      "image/png": "[encoded data removed]",
      "text/plain": [
       "<Figure size 500x500 with 1 Axes>"
      ]
     },
     "metadata": {},
     "output_type": "display_data"
    }
   ],
   "source": [
    "import matplotlib .pyplot as plt\n",
    "import seaborn as sns\n",
    "sns.displot([1,2,3,5,7])\n",
    "plt.show()"
   ]
  },
  {
   "cell_type": "code",
   "execution_count": 3,
   "id": "8e461958-8d60-4a5c-86dd-75b9f3aaefdb",
   "metadata": {},
   "outputs": [
    {
     "data": {
      "image/png": "[encoded data removed]",
      "text/plain": [
       "<Figure size 500x500 with 1 Axes>"
      ]
     },
     "metadata": {},
     "output_type": "display_data"
    }
   ],
   "source": [
    "import matplotlib.pyplot as plt\n",
    "import seaborn as sns\n",
    "sns.displot([1,2,3,34,23],kind=\"kde\")\n",
    "plt.show()\n"
   ]
  },
  {
   "cell_type": "markdown",
   "id": "a9914300-e76c-4bd9-9499-8ce65ae8aa1d",
   "metadata": {
    "jp-MarkdownHeadingCollapsed": true
   },
   "source": [
    "# Normal Distribution"
   ]
  },
  {
   "cell_type": "raw",
   "id": "8c49400b-6412-41a3-b205-3136e81084f7",
   "metadata": {},
   "source": [
    "random.normal()\n",
    "\n",
    "    It has three parameters.\n",
    "`1. loc-> mean\n",
    " 2. scale->Standard Deviation\n",
    " 3. sizen-> Shape...\n",
    "It is used to handle many events .Eg.heart beats\n"
   ]
  },
  {
   "cell_type": "code",
   "execution_count": 4,
   "id": "68586e4b-e34c-44cb-9549-b00e5761d4c3",
   "metadata": {},
   "outputs": [
    {
     "name": "stdout",
     "output_type": "stream",
     "text": [
      "[[ 1.72765856 -0.43002154  0.13320143]\n",
      " [ 0.35689578  0.10748755 -0.64136729]]\n"
     ]
    }
   ],
   "source": [
    "from numpy import random\n",
    "x=random.normal(size=(2,3))\n",
    "print(x)"
   ]
  },
  {
   "cell_type": "code",
   "execution_count": 5,
   "id": "c395a9ff-b6e7-4892-9d2c-028d0edc6f2b",
   "metadata": {},
   "outputs": [
    {
     "name": "stdout",
     "output_type": "stream",
     "text": [
      "[[ 4.61349632  1.4828508 ]\n",
      " [ 1.60566642  2.22949421]\n",
      " [-1.24726152  1.17424052]]\n"
     ]
    }
   ],
   "source": [
    "from numpy import random\n",
    "x=random.normal(loc=1,scale=2,size=(3,2))\n",
    "print(x)"
   ]
  },
  {
   "cell_type": "code",
   "execution_count": 6,
   "id": "d2350f68-2d12-4304-9eb4-78462dc6c676",
   "metadata": {},
   "outputs": [
    {
     "data": {
      "image/png": "[encoded data removed]",
      "text/plain": [
       "<Figure size 500x500 with 1 Axes>"
      ]
     },
     "metadata": {},
     "output_type": "display_data"
    }
   ],
   "source": [
    "from numpy import random\n",
    "import matplotlib.pyplot as plt\n",
    "import seaborn as snb\n",
    "\n",
    "sns.displot(random.normal(size=1000),kind=\"kde\")\n",
    "plt.show()"
   ]
  },
  {
   "cell_type": "markdown",
   "id": "f3e7d2b3-53bd-47d9-a1ff-3438dc187372",
   "metadata": {
    "jp-MarkdownHeadingCollapsed": true
   },
   "source": [
    "# Binomial Distribution"
   ]
  },
  {
   "cell_type": "markdown",
   "id": "b57a310c-4d44-4d29-9509-ee0a73943a69",
   "metadata": {},
   "source": [
    "    The Binomial Distribution is used to describe the outcome of the binaray scenarios.\n",
    "Eg.Toss the coin.\n",
    "*  random.binomial(n=?,p=?,size=(?,?))"
   ]
  },
  {
   "cell_type": "code",
   "execution_count": 9,
   "id": "9e522c14-1410-4ca7-834e-c48ecc4d0b85",
   "metadata": {},
   "outputs": [
    {
     "name": "stdout",
     "output_type": "stream",
     "text": [
      "[[2 2 0 3]\n",
      " [2 2 2 3]]\n"
     ]
    }
   ],
   "source": [
    "from numpy import random\n",
    "\n",
    "a=random.binomial(n=4,p=0.4,size=(2,4))\n",
    "print(a)"
   ]
  },
  {
   "cell_type": "code",
   "execution_count": 10,
   "id": "c0df889d-7915-4107-919e-b7efad93c6a9",
   "metadata": {},
   "outputs": [
    {
     "data": {
      "image/png": "[encoded data removed]",
      "text/plain": [
       "<Figure size 558.875x500 with 1 Axes>"
      ]
     },
     "metadata": {},
     "output_type": "display_data"
    }
   ],
   "source": [
    "from numpy import random\n",
    "import matplotlib.pyplot as plt\n",
    "import seaborn as sns\n",
    "\n",
    "sns.displot(random.binomial(n=5,p=0.5,size=(3,4)))\n",
    "\n",
    "plt.show()"
   ]
  },
  {
   "cell_type": "code",
   "execution_count": 20,
   "id": "93612d4f-4db1-40a7-b818-d3bed6427370",
   "metadata": {},
   "outputs": [
    {
     "data": {
      "image/png": "[encoded data removed]",
      "text/plain": [
       "<Figure size 598.75x500 with 1 Axes>"
      ]
     },
     "metadata": {},
     "output_type": "display_data"
    }
   ],
   "source": [
    "# the main difference\n",
    "from numpy import random\n",
    "import matplotlib.pyplot as plt\n",
    "import seaborn as sns\n",
    "\n",
    "# creating a dictionary\n",
    "data={\n",
    "    \"normal\": random.normal(loc=10,scale=32,size=100),\n",
    "    \"binary\": random.binomial(n=8,p=0.67,size=100)\n",
    "}\n",
    "\n",
    "sns.displot(data,kind=\"kde\")\n",
    "plt.show()"
   ]
  },
  {
   "cell_type": "markdown",
   "id": "cca49122-bfe2-4139-a85b-036c20bae6d3",
   "metadata": {
    "jp-MarkdownHeadingCollapsed": true
   },
   "source": [
    "# Poisson Distribution"
   ]
  },
  {
   "cell_type": "markdown",
   "id": "61160be4-bbc0-4119-bd3d-c152f630af08",
   "metadata": {},
   "source": [
    "     It is a type of distribution which are used to estimate how many times the event arrises.\n",
    "         eg.if a person eat somethings twice,what is thenprobability of eating it thrice.\n",
    "         parameters:\n",
    "         * lam -> late or number of occurences.\n",
    "         * size "
   ]
  },
  {
   "cell_type": "code",
   "execution_count": 22,
   "id": "92092536-8ce5-4084-843e-bf1bb5836d01",
   "metadata": {},
   "outputs": [
    {
     "name": "stdout",
     "output_type": "stream",
     "text": [
      "[25 18 19 18 27 18 17 20 24 16 18 18 29 21 24 21 23 24 15 26 21 16 25 20\n",
      " 25 19 20 25 24 14 14 22 22 21 17 11 23 24 18 27 23 25 18 13 12 24 20 24\n",
      " 28 16 17 23 24 25 17 17 24 27 25 18 15 23 19 13 19 21 25 16 21 16 20 15\n",
      " 17 17 15 18 24 22 23 16 15 23 18 22 13 19 20 23 29 18 20 18 12 13 12 17\n",
      " 17 23 21 26]\n"
     ]
    }
   ],
   "source": [
    "from numpy import random\n",
    "\n",
    "a=random.poisson(lam=20,size=100)\n",
    "print(a)"
   ]
  },
  {
   "cell_type": "code",
   "execution_count": 25,
   "id": "afa5ad3f-5e81-4d29-b6bd-26dadf711948",
   "metadata": {},
   "outputs": [
    {
     "data": {
      "image/png": "[encoded data removed]",
      "text/plain": [
       "<Figure size 500x500 with 1 Axes>"
      ]
     },
     "metadata": {},
     "output_type": "display_data"
    }
   ],
   "source": [
    "from numpy import random\n",
    "import matplotlib.pyplot as plt\n",
    "import seaborn as sns\n",
    "\n",
    "sns.displot(random.poisson(lam=20,size=100))\n",
    "plt.show()"
   ]
  },
  {
   "cell_type": "code",
   "execution_count": 29,
   "id": "29b0c70e-66e3-4b40-8f88-3e0c552dff72",
   "metadata": {},
   "outputs": [
    {
     "data": {
      "image/png": "[encoded data removed]",
      "text/plain": [
       "<Figure size 602.75x500 with 1 Axes>"
      ]
     },
     "metadata": {},
     "output_type": "display_data"
    }
   ],
   "source": [
    "# difference between poisson and normal\n",
    "from numpy import random\n",
    "import matplotlib.pyplot as plt\n",
    "import seaborn as sns\n",
    "\n",
    "data={\n",
    "    \"normal\":random.normal(loc=26,scale=23,size=100),\n",
    "    \"poisson\":random.poisson(lam=20,size=100)\n",
    "}\n",
    "\n",
    "sns.displot(data)\n",
    "\n",
    "plt.show()"
   ]
  },
  {
   "cell_type": "code",
   "execution_count": 31,
   "id": "ad666e90-a05f-4ef3-8d4e-cf0c1abd909e",
   "metadata": {},
   "outputs": [
    {
     "data": {
      "image/png": "[encoded data removed]",
      "text/plain": [
       "<Figure size 609.875x500 with 1 Axes>"
      ]
     },
     "metadata": {},
     "output_type": "display_data"
    }
   ],
   "source": [
    "# difference between binominal and poisson\n",
    "import matplotlib .pyplot as plt\n",
    "import seaborn as sns\n",
    "from numpy import random\n",
    "\n",
    "data2={\n",
    "    \"binomial\":random.binomial(n=45,p=0.2,size=1000),\n",
    "    \"possion\":random.poisson(lam=28,size=99)\n",
    "}\n",
    "\n",
    "sns.displot(data2,kind=\"kde\")\n",
    "plt.show()"
   ]
  },
  {
   "cell_type": "markdown",
   "id": "f9584168-1dd9-42d9-9a27-b324ebeef29f",
   "metadata": {
    "jp-MarkdownHeadingCollapsed": true
   },
   "source": [
    "# Uniform distribution"
   ]
  },
  {
   "cell_type": "markdown",
   "id": "0778a2f5-0a66-4cf5-becd-fdcaf20d0077",
   "metadata": {},
   "source": [
    "    The uniform distribution are used to describe the probablity of the event has the equal chance of occurence.\n",
    "The Parameters are\n",
    "* low ->lowbound->default(0.0)`\n",
    "* high -> highbound-> default(1.0)\n",
    "* size"
   ]
  },
  {
   "cell_type": "code",
   "execution_count": 32,
   "id": "311f701a-beef-4743-b254-d2db5d00f1d3",
   "metadata": {},
   "outputs": [
    {
     "name": "stdout",
     "output_type": "stream",
     "text": [
      "[[0.31054084 0.60801739 0.62624369]\n",
      " [0.05846827 0.91818701 0.29512729]]\n"
     ]
    }
   ],
   "source": [
    "from numpy import random\n",
    "ap=random.uniform(size=(2,3))\n",
    "print(ap)"
   ]
  },
  {
   "cell_type": "code",
   "execution_count": 35,
   "id": "b2cd79ae-7e95-4307-b927-8aaa81b1d788",
   "metadata": {},
   "outputs": [
    {
     "data": {
      "image/png": "[encoded data removed]",
      "text/plain": [
       "<Figure size 500x500 with 1 Axes>"
      ]
     },
     "metadata": {},
     "output_type": "display_data"
    }
   ],
   "source": [
    "from numpy import random\n",
    "import matplotlib.pyplot as plt\n",
    "import seaborn as sns\n",
    "\n",
    "sns.displot(random.uniform(size=100),kind=\"kde\")\n",
    "\n",
    "plt.show()"
   ]
  },
  {
   "cell_type": "markdown",
   "id": "e152ccad-f739-4be4-a02d-b47039c4e844",
   "metadata": {
    "jp-MarkdownHeadingCollapsed": true
   },
   "source": [
    "# Logistic Distribution"
   ]
  },
  {
   "cell_type": "markdown",
   "id": "f39e1267-43f4-41cb-8a3d-de8ddd29e790",
   "metadata": {},
   "source": [
    "    The logistic distribution used to see the growth. The parameters are\n",
    "* loc->mean in which peak value 0\n",
    "* scale -> standard deviation-> defaut 1\n",
    "* size"
   ]
  },
  {
   "cell_type": "code",
   "execution_count": 1,
   "id": "cdcfd2cd-5f2a-483d-b3c8-dc8e8cbfd0b8",
   "metadata": {},
   "outputs": [
    {
     "name": "stdout",
     "output_type": "stream",
     "text": [
      "[[-7.54839122  0.91056244  1.25525539  1.45639792]\n",
      " [ 0.41183416 -6.25020628 -4.41412876  2.68271139]]\n"
     ]
    }
   ],
   "source": [
    "from numpy import random\n",
    "\n",
    "a=random.logistic(loc=1,scale=2,size=(2,4))\n",
    "print(a)"
   ]
  },
  {
   "cell_type": "code",
   "execution_count": 2,
   "id": "4cc3c31e-9243-4afa-ae3b-5339321bc353",
   "metadata": {},
   "outputs": [
    {
     "data": {
      "image/png": "[encoded data removed]",
      "text/plain": [
       "<Figure size 500x500 with 1 Axes>"
      ]
     },
     "metadata": {},
     "output_type": "display_data"
    }
   ],
   "source": [
    "from numpy import random\n",
    "import matplotlib.pyplot as plt\n",
    "import seaborn as sns\n",
    "\n",
    "sns.displot(random.logistic(loc=2,scale=4,size=100))\n",
    "plt.show()"
   ]
  },
  {
   "cell_type": "code",
   "execution_count": 2,
   "id": "249b2f2c-c3c9-4629-9cc5-0ed04f7f352a",
   "metadata": {},
   "outputs": [
    {
     "data": {
      "image/png": "[encoded data removed]",
      "text/plain": [
       "<Figure size 599.25x500 with 1 Axes>"
      ]
     },
     "metadata": {},
     "output_type": "display_data"
    }
   ],
   "source": [
    "# difference between logistic and normal distribution\n",
    "from numpy import random\n",
    "import matplotlib.pyplot as plt\n",
    "import seaborn as sns\n",
    "\n",
    "data={\n",
    "    \"normal\":random.normal(loc=2,scale=8,size=10),\n",
    "    \"logistic\":random.logistic(loc=2,scale=8,size=10)\n",
    "}\n",
    "\n",
    "sns.displot(data,kind=\"kde\")\n",
    "plt.show()\n"
   ]
  },
  {
   "cell_type": "markdown",
   "id": "9799145d-1f89-4222-98b7-6494f89da888",
   "metadata": {
    "jp-MarkdownHeadingCollapsed": true
   },
   "source": [
    "# Multinominal Distribution"
   ]
  },
  {
   "cell_type": "markdown",
   "id": "d9b6625e-bb54-43dc-91b6-0db89ada8719",
   "metadata": {},
   "source": [
    "    It is used to check the distributions of multiple events.\n",
    "    eg. dice,blood group of the populations.\n",
    "    It is derived from binary distribution.\n",
    "    The parameters are\n",
    "* n-> number of time to run an experiments\n",
    "* pvals-> probability values(eg.1/6)\n",
    "* size"
   ]
  },
  {
   "cell_type": "code",
   "execution_count": 5,
   "id": "42231bf9-cdf8-4ac5-83cd-5e4000db703f",
   "metadata": {},
   "outputs": [
    {
     "name": "stdout",
     "output_type": "stream",
     "text": [
      "[0 0 1 1 1]\n"
     ]
    }
   ],
   "source": [
    "from numpy import random\n",
    "\n",
    "s=random.multinomial(n=3,pvals=[1/6,1/6,1/6,1/6,1/6])\n",
    "print(s)"
   ]
  },
  {
   "cell_type": "code",
   "execution_count": 6,
   "id": "2f1477a4-0dc6-4315-b2eb-ff6e08e55dd9",
   "metadata": {},
   "outputs": [
    {
     "data": {
      "image/png": "[encoded data removed]",
      "text/plain": [
       "<Figure size 500x500 with 1 Axes>"
      ]
     },
     "metadata": {},
     "output_type": "display_data"
    }
   ],
   "source": [
    "from numpy import random\n",
    "import matplotlib.pyplot as plt\n",
    "import seaborn as sns\n",
    "\n",
    "sns.displot(random.multinomial(n=3,pvals=[1/6,1/6,1/6,1/6,1/6]))\n",
    "plt.show()"
   ]
  },
  {
   "cell_type": "markdown",
   "id": "326839e7-1bb7-4c8a-8182-2f14de4722fe",
   "metadata": {
    "jp-MarkdownHeadingCollapsed": true
   },
   "source": [
    "# Exponteial Distribution"
   ]
  },
  {
   "cell_type": "markdown",
   "id": "9cc05fdd-ccc6-4929-a8b1-712c775fcb51",
   "metadata": {},
   "source": [
    "    It is the time to distribute the time taken up to the next event.\n",
    "    eg.Success/failure\n",
    "    The parameters are\n",
    "* scale->inverse of rate(eg.lam) default-1.0\n",
    "* size"
   ]
  },
  {
   "cell_type": "code",
   "execution_count": 1,
   "id": "e0b8e93c-67f6-4036-9e7b-956e2db87824",
   "metadata": {},
   "outputs": [
    {
     "name": "stdout",
     "output_type": "stream",
     "text": [
      "[[1.70882935 1.6077241  0.87156716]\n",
      " [1.77250608 6.37275878 7.1414742 ]]\n"
     ]
    }
   ],
   "source": [
    "from numpy import random\n",
    "b= random.exponential(scale=2,size=(2,3))\n",
    "print(b)\n"
   ]
  },
  {
   "cell_type": "code",
   "execution_count": 3,
   "id": "e18e5c29-da20-455c-87de-858690611a98",
   "metadata": {},
   "outputs": [
    {
     "data": {
      "image/png": "[encoded data removed]",
      "text/plain": [
       "<Figure size 500x500 with 1 Axes>"
      ]
     },
     "metadata": {},
     "output_type": "display_data"
    }
   ],
   "source": [
    "from numpy import random\n",
    "import seaborn as sns\n",
    "import matplotlib.pyplot as plt\n",
    "\n",
    "sns.displot(random.exponential(scale=20,size=100))\n",
    "plt.show()"
   ]
  },
  {
   "cell_type": "markdown",
   "id": "8a446684-2a02-4302-8bed-5f2ac89a0c0a",
   "metadata": {
    "jp-MarkdownHeadingCollapsed": true
   },
   "source": [
    "# Chi Square Distribution"
   ]
  },
  {
   "cell_type": "markdown",
   "id": "4d9b4f45-635f-436c-a695-8938c854e472",
   "metadata": {},
   "source": [
    "    It is distribution used as a basics to verify the hypothesis.\n",
    "    The parameters are \n",
    "* df -> degree of freedom\n",
    "* size"
   ]
  },
  {
   "cell_type": "code",
   "execution_count": 4,
   "id": "a8d77b79-a217-45b4-bea4-c5b59fda1c84",
   "metadata": {},
   "outputs": [
    {
     "name": "stdout",
     "output_type": "stream",
     "text": [
      "[[ 1.11896447  4.88413926  2.18290867  1.23051723  0.0548128   0.30276833\n",
      "   3.35887589  2.27020432]\n",
      " [ 1.52247215  1.01969297  2.44267446  0.36318094  0.13325893  3.10332332\n",
      "   1.09828259  2.13821122]\n",
      " [ 0.03847752  0.37341362  3.02781509 11.16913091  1.51606263  1.95118191\n",
      "   1.55451748  0.07014153]]\n"
     ]
    }
   ],
   "source": [
    "from numpy import random\n",
    "\n",
    "a=random.chisquare(df=2,size=(3,8))\n",
    "print(a)"
   ]
  },
  {
   "cell_type": "code",
   "execution_count": 5,
   "id": "26d23ce7-cfed-4349-adb3-13782609fbe8",
   "metadata": {},
   "outputs": [
    {
     "data": {
      "image/png": "[encoded data removed]",
      "text/plain": [
       "<Figure size 500x500 with 1 Axes>"
      ]
     },
     "metadata": {},
     "output_type": "display_data"
    }
   ],
   "source": [
    "import matplotlib.pyplot as plt\n",
    "import seaborn as sns\n",
    "from numpy import random\n",
    "\n",
    "sns.displot(random.chisquare(df=3,size=20))\n",
    "plt.show()"
   ]
  },
  {
   "cell_type": "markdown",
   "id": "728c92fd-16ca-46cf-b9cc-22c9493f120a",
   "metadata": {
    "jp-MarkdownHeadingCollapsed": true
   },
   "source": [
    "# Rayleigh Distribution"
   ]
  },
  {
   "cell_type": "markdown",
   "id": "a31f11c7-329a-4aa0-8f55-6b8f76fd20fc",
   "metadata": {},
   "source": [
    "    It is used in signal processing.\n",
    "    The parameters are\n",
    "* scale-> standard distribution\n",
    "* size"
   ]
  },
  {
   "cell_type": "code",
   "execution_count": 7,
   "id": "5564fd09-c5c1-40c3-a72d-1a13c87cf134",
   "metadata": {},
   "outputs": [
    {
     "name": "stdout",
     "output_type": "stream",
     "text": [
      "[[31.55018199 29.44589804 18.14263555]\n",
      " [ 7.6048006  26.86985281 16.0052167 ]]\n"
     ]
    }
   ],
   "source": [
    "from numpy import random\n",
    "a= random.rayleigh(scale=20,size=(2,3))\n",
    "print(a)"
   ]
  },
  {
   "cell_type": "code",
   "execution_count": 8,
   "id": "f575bd94-12f2-4872-9f9b-c4a6cabc21e1",
   "metadata": {},
   "outputs": [
    {
     "data": {
      "image/png": "[encoded data removed]",
      "text/plain": [
       "<Figure size 500x500 with 1 Axes>"
      ]
     },
     "metadata": {},
     "output_type": "display_data"
    }
   ],
   "source": [
    "from numpy import random\n",
    "import matplotlib.pyplot as plt\n",
    "import seaborn as sns\n",
    "\n",
    "sns.displot(random.rayleigh(scale=2,size=10),kind=\"kde\")\n",
    "plt.show()"
   ]
  },
  {
   "cell_type": "markdown",
   "id": "0693b8da-3dc5-48d4-8e74-705b839e22f2",
   "metadata": {
    "jp-MarkdownHeadingCollapsed": true
   },
   "source": [
    "# Paretro Distribution"
   ]
  },
  {
   "cell_type": "markdown",
   "id": "cc253732-ad51-4af7-a506-ba14a719d14a",
   "metadata": {},
   "source": [
    "    Paretro distribution is based on the paretro law...which means (80-20)law that is 20%  factors causes 80% outcome.\n",
    "    The parameters are\n",
    "* a-> shape parameter\n",
    "* size\n",
    "  "
   ]
  },
  {
   "cell_type": "code",
   "execution_count": 9,
   "id": "c0501633-ec9e-4af8-b20f-2e587f6cfdac",
   "metadata": {},
   "outputs": [
    {
     "name": "stdout",
     "output_type": "stream",
     "text": [
      "[[0.0094129  0.53512085 0.15721269 0.364613  ]\n",
      " [0.14994254 0.00747884 0.21993725 0.43568834]]\n"
     ]
    }
   ],
   "source": [
    "from numpy import random\n",
    "a=random.pareto(a=2,size=(2,4))\n",
    "print(a)"
   ]
  },
  {
   "cell_type": "code",
   "execution_count": 11,
   "id": "d3e7337d-0681-4f7c-83fd-cfaddd7bdfc9",
   "metadata": {},
   "outputs": [
    {
     "data": {
      "image/png": "[encoded data removed]",
      "text/plain": [
       "<Figure size 500x500 with 1 Axes>"
      ]
     },
     "metadata": {},
     "output_type": "display_data"
    }
   ],
   "source": [
    "import matplotlib.pyplot as plt\n",
    "import seaborn as sns\n",
    "from numpy import random\n",
    "\n",
    "sns.displot(random.pareto(a=2,size=10),kind=\"kde\")\n",
    "plt.show()"
   ]
  },
  {
   "cell_type": "markdown",
   "id": "851bb0dd-47a3-480a-bfbd-2713d5471d49",
   "metadata": {},
   "source": [
    "# Zipf function"
   ]
  },
  {
   "cell_type": "markdown",
   "id": "39ffde4f-2d14-44c8-8dda-7f6d22f50416",
   "metadata": {},
   "source": [
    "    The Zipf function is based on the Zipf law.\n",
    "    It states that ,in a collection the nth common term is 1/10 most common term.\n",
    "    For example ,consider the 10 most common word in tamil is occures 1/10 times of the most common word.\n",
    "    The parameters are\n",
    "* a->distribution parameters\n",
    "* size."
   ]
  },
  {
   "cell_type": "code",
   "execution_count": 12,
   "id": "ff66738c-a36f-4395-a11f-e37874a6cbd0",
   "metadata": {},
   "outputs": [
    {
     "name": "stdout",
     "output_type": "stream",
     "text": [
      "[ 3  1  1  1 14  1  2  1  1  1  2  1  1  1  1  1 39  1  1]\n"
     ]
    }
   ],
   "source": [
    "from numpy import random\n",
    "\n",
    "a=random.zipf(a=2,size=19)\n",
    "print(a)"
   ]
  },
  {
   "cell_type": "code",
   "execution_count": 15,
   "id": "95a7b20a-020b-45ec-b8d3-d3fec996b2ed",
   "metadata": {},
   "outputs": [
    {
     "data": {
      "image/png": "[encoded data removed]",
      "text/plain": [
       "<Figure size 500x500 with 1 Axes>"
      ]
     },
     "metadata": {},
     "output_type": "display_data"
    }
   ],
   "source": [
    "from numpy import random\n",
    "import matplotlib.pyplot as plt\n",
    "import seaborn as sns\n",
    "\n",
    "sns.displot(random.zipf(a=4,size=10),kind=\"kde\")\n",
    "plt.show()"
   ]
  },
  {
   "cell_type": "markdown",
   "id": "dc9a0dee-7a9a-417b-bb0a-290bd84c0eff",
   "metadata": {},
   "source": [
    "# Numpy ufuncs"
   ]
  },
  {
   "cell_type": "markdown",
   "id": "edfac1ba-c488-4611-ace3-36e16b743fde",
   "metadata": {},
   "source": [
    "    Ufuncs Stands for \"Universal function\",and they are operated in numpy object."
   ]
  },
  {
   "cell_type": "markdown",
   "id": "385bdeb4-5711-4974-aaf1-24e7924a33b9",
   "metadata": {},
   "source": [
    "# Zip() function"
   ]
  },
  {
   "cell_type": "markdown",
   "id": "b0d0d76b-0acd-488f-80ea-8a4647ac5ce3",
   "metadata": {},
   "source": [
    "    It is normal build-in function not a ufuncs."
   ]
  },
  {
   "cell_type": "code",
   "execution_count": 2,
   "id": "40bd9968-3ab0-4185-92d3-87072868d6b1",
   "metadata": {},
   "outputs": [
    {
     "name": "stdout",
     "output_type": "stream",
     "text": [
      "[3, 5, 7, 9]\n"
     ]
    }
   ],
   "source": [
    "# adding 2 elements with zip function\n",
    "#list 1:\n",
    "a=[1,2,3,4]\n",
    "#list 2:\n",
    "b=[2,3,4,5]\n",
    "z=[]\n",
    "\n",
    "for i,j in zip(a,b):\n",
    "    z.append(i+j)\n",
    "print(z)\n",
    "    "
   ]
  },
  {
   "cell_type": "markdown",
   "id": "f1811733-de3c-46d1-88de-a3f355ce051d",
   "metadata": {},
   "source": [
    "# add()"
   ]
  },
  {
   "cell_type": "code",
   "execution_count": 3,
   "id": "e91eead2-d43d-477c-b344-5933c013a398",
   "metadata": {},
   "outputs": [
    {
     "name": "stdout",
     "output_type": "stream",
     "text": [
      "[ 7 10 12 10]\n"
     ]
    }
   ],
   "source": [
    "import numpy as np\n",
    "list1=[3,5,6,8]\n",
    "list2=[4,5,6,2]\n",
    "c=np.add(list1,list2)\n",
    "print(c)"
   ]
  },
  {
   "cell_type": "markdown",
   "id": "a157f57e-4c4f-4da3-a07b-64f65407be4e",
   "metadata": {},
   "source": [
    "# Defining my own ufuns\n"
   ]
  },
  {
   "cell_type": "markdown",
   "id": "2fe2b7b2-3565-4f4a-b6a3-8fda41cb9be3",
   "metadata": {},
   "source": [
    "The syntax is\n",
    "1. def function_name():\n",
    "     function\n",
    "\n",
    "     variable=np.frompyfunc(function_name,no.of input,no. of output)"
   ]
  },
  {
   "cell_type": "code",
   "execution_count": 5,
   "id": "da36ac3c-7d2c-4a75-bb20-bbe793bdb7b7",
   "metadata": {},
   "outputs": [
    {
     "name": "stdout",
     "output_type": "stream",
     "text": [
      "[3 6 9 12]\n"
     ]
    }
   ],
   "source": [
    "import numpy as np\n",
    "# defining a function\n",
    "def my_sum(a,b):\n",
    "    return a+b\n",
    "#function call\n",
    "my_sum=np.frompyfunc(my_sum,2,1)\n",
    "\n",
    "print(my_sum([1,2,3,4],[2,4,6,8]))"
   ]
  },
  {
   "cell_type": "code",
   "execution_count": 6,
   "id": "5c580ac0-a330-4ed0-9da8-54c34c25623d",
   "metadata": {},
   "outputs": [
    {
     "name": "stdout",
     "output_type": "stream",
     "text": [
      "olleh\n"
     ]
    }
   ],
   "source": [
    "# reverse a string\n",
    "import numpy as np\n",
    "\n",
    "#defing a function\n",
    "def reverse_string(string):\n",
    "    return(string[::-1])\n",
    "\n",
    "#function call\n",
    "reverse_string=np.frompyfunc(reverse_string,1,1)\n",
    "\n",
    "print(reverse_string(\"hello\"))"
   ]
  },
  {
   "cell_type": "code",
   "execution_count": 20,
   "id": "bef1bf77-3759-4c55-a3c7-28e50b0da916",
   "metadata": {},
   "outputs": [
    {
     "data": {
      "text/plain": [
       "numpy.ufunc"
      ]
     },
     "execution_count": 20,
     "metadata": {},
     "output_type": "execute_result"
    }
   ],
   "source": [
    "import numpy as np\n",
    "type(np.add)"
   ]
  },
  {
   "cell_type": "code",
   "execution_count": 21,
   "id": "56d43d36-6c29-4b8a-ab8a-8780fe999ce7",
   "metadata": {},
   "outputs": [
    {
     "data": {
      "text/plain": [
       "numpy._ArrayFunctionDispatcher"
      ]
     },
     "execution_count": 21,
     "metadata": {},
     "output_type": "execute_result"
    }
   ],
   "source": [
    "import numpy as np\n",
    "type(np.concatenate)"
   ]
  },
  {
   "cell_type": "code",
   "execution_count": 26,
   "id": "b32c4347-febb-4dab-b8e4-b5fd772ae716",
   "metadata": {},
   "outputs": [
    {
     "data": {
      "text/plain": [
       "1"
      ]
     },
     "execution_count": 26,
     "metadata": {},
     "output_type": "execute_result"
    }
   ],
   "source": [
    "x=10\n",
    "a=str(x)\n",
    "pow(1,len(a))"
   ]
  },
  {
   "cell_type": "markdown",
   "id": "df46f20c-2e7f-4cc1-85f3-3790feea89cd",
   "metadata": {},
   "source": [
    "# Simple airthemetic operations\n",
    "    "
   ]
  },
  {
   "cell_type": "code",
   "execution_count": 39,
   "id": "d228bd3b-39da-4b1d-bfdd-369589bcdee8",
   "metadata": {},
   "outputs": [
    {
     "name": "stdout",
     "output_type": "stream",
     "text": [
      "[ 4  8  3 14]\n",
      "[-2  0  1 -4]\n",
      "[ 3 16  2 45]\n",
      "[0.33333333 1.         2.         0.55555556]\n",
      "[      1     256       2 1953125]\n",
      "[1 0 0 5]\n",
      "[1 0 0 5]\n",
      "(array([0, 1, 2, 0]), array([1, 0, 0, 5]))\n",
      "[1 4 2 5]\n"
     ]
    }
   ],
   "source": [
    "import numpy as np\n",
    "my_list=[1,4,2,5]\n",
    "my_list1=[3,4,1,9]\n",
    "\n",
    "print(np.add(my_list,my_list1))\n",
    "print(np.subtract(my_list,my_list1))\n",
    "print(np.multiply(my_list,my_list1))\n",
    "print(np.divide(my_list,my_list1))\n",
    "print(np.power(my_list,my_list1))\n",
    "print(np.mod(my_list,my_list1))\n",
    "print(np.remainder(my_list,my_list1))\n",
    "print(np.divmod(my_list,my_list1)) #provide both quotient and remainder\n",
    "print(np.absolute(my_list)) # provide positive value"
   ]
  },
  {
   "cell_type": "markdown",
   "id": "8bbd596c-f029-4549-a936-7673d414bbea",
   "metadata": {},
   "source": [
    "# Rounding Decimals"
   ]
  },
  {
   "cell_type": "markdown",
   "id": "3d4a4bc5-971a-4aae-b485-9671bdce73ce",
   "metadata": {},
   "source": [
    "    Some of the rounding decimals are\n",
    "1. Truncate\n",
    "2. fix\n",
    "3. rounding\n",
    "4. floor\n",
    "5. ceil"
   ]
  },
  {
   "cell_type": "markdown",
   "id": "6db1c239-8349-4ff7-9b5a-de4c7023ff5b",
   "metadata": {},
   "source": [
    "# Truncate"
   ]
  },
  {
   "cell_type": "markdown",
   "id": "fafcc811-0209-483f-a3b2-c35352645a1f",
   "metadata": {},
   "source": [
    "Remove the elements closest to 0"
   ]
  },
  {
   "cell_type": "code",
   "execution_count": 41,
   "id": "2e470fca-ce06-4bd5-a5da-7c5f3cc40a2d",
   "metadata": {},
   "outputs": [
    {
     "name": "stdout",
     "output_type": "stream",
     "text": [
      "[ 3. 45. 21.]\n"
     ]
    }
   ],
   "source": [
    "import numpy as np\n",
    "\n",
    "a=np.trunc([3.90,45.246,21.94])\n",
    "print(a)\n"
   ]
  },
  {
   "cell_type": "markdown",
   "id": "08e3683c-7678-4e8a-8f23-7d7190c7bb62",
   "metadata": {},
   "source": [
    "# Fix"
   ]
  },
  {
   "cell_type": "code",
   "execution_count": 42,
   "id": "e82d22f4-1fe1-4a9d-ba85-7d250d464675",
   "metadata": {},
   "outputs": [
    {
     "name": "stdout",
     "output_type": "stream",
     "text": [
      "[ 3. 45. 21.]\n"
     ]
    }
   ],
   "source": [
    "import numpy as np\n",
    "\n",
    "a=np.trunc([3.90,45.246,21.94])\n",
    "print(a)\n"
   ]
  },
  {
   "cell_type": "markdown",
   "id": "e54db924-e04b-453b-8a26-c03e9b170773",
   "metadata": {},
   "source": [
    "# Rounding"
   ]
  },
  {
   "cell_type": "code",
   "execution_count": 43,
   "id": "ef30ce41-e239-4567-8831-c05362d767c6",
   "metadata": {},
   "outputs": [
    {
     "name": "stdout",
     "output_type": "stream",
     "text": [
      "[ 4. 45. 22.]\n"
     ]
    }
   ],
   "source": [
    "import numpy as np\n",
    "\n",
    "a=np.round([3.90,45.246,21.94])\n",
    "print(a)"
   ]
  },
  {
   "cell_type": "markdown",
   "id": "6801dc28-88ef-43fe-8aeb-1425f8296c85",
   "metadata": {},
   "source": [
    "# Floor"
   ]
  },
  {
   "cell_type": "code",
   "execution_count": 45,
   "id": "5b9253c4-88bb-44ad-8d94-5106cd48bef3",
   "metadata": {},
   "outputs": [
    {
     "name": "stdout",
     "output_type": "stream",
     "text": [
      "[ 3. 45. 21.]\n"
     ]
    }
   ],
   "source": [
    "import numpy as np\n",
    "\n",
    "\n",
    "a=np.floor([3.90,45.246,21.94])# gives smallest value\n",
    "print(a)"
   ]
  },
  {
   "cell_type": "markdown",
   "id": "014a7399-b8e7-4b16-91a6-f4e2022db74d",
   "metadata": {},
   "source": [
    "# ceil"
   ]
  },
  {
   "cell_type": "code",
   "execution_count": 3,
   "id": "d7f9aebe-5f28-4238-aae7-2ef89528a7e7",
   "metadata": {},
   "outputs": [
    {
     "name": "stdout",
     "output_type": "stream",
     "text": [
      "[ 4. 46. 22.]\n"
     ]
    }
   ],
   "source": [
    "import numpy as np\n",
    "\n",
    "\n",
    "a=np.ceil([3.90,45.246,21.94])\n",
    "print(a)"
   ]
  },
  {
   "cell_type": "markdown",
   "id": "c657c101-5b9c-4e7f-9d01-543db6b945ae",
   "metadata": {},
   "source": [
    "# Log"
   ]
  },
  {
   "cell_type": "code",
   "execution_count": 4,
   "id": "d76fe810-989b-4ffb-85af-5e237e3b9a5d",
   "metadata": {},
   "outputs": [
    {
     "data": {
      "text/plain": [
       "array([0.        , 1.        , 1.5849625 , 2.        , 2.32192809,\n",
       "       2.5849625 , 2.80735492, 3.        , 3.169925  ])"
      ]
     },
     "execution_count": 4,
     "metadata": {},
     "output_type": "execute_result"
    }
   ],
   "source": [
    "# Log at base2\n",
    "import numpy as np\n",
    "a=np.arange(1,10)\n",
    "np.log2(a)"
   ]
  },
  {
   "cell_type": "code",
   "execution_count": 5,
   "id": "dc27018d-17aa-4cae-9e7d-9fa18cc4273e",
   "metadata": {},
   "outputs": [
    {
     "name": "stdout",
     "output_type": "stream",
     "text": [
      "[0.         0.30103    0.47712125 0.60205999 0.69897    0.77815125\n",
      " 0.84509804 0.90308999 0.95424251]\n"
     ]
    }
   ],
   "source": [
    "# log at base 10\n",
    "import numpy as np\n",
    "b=np.arange(1,10)\n",
    "print(np.log10(b))"
   ]
  },
  {
   "cell_type": "code",
   "execution_count": 6,
   "id": "58b86853-3441-4b4b-8f6b-41307aaa7d03",
   "metadata": {},
   "outputs": [
    {
     "name": "stdout",
     "output_type": "stream",
     "text": [
      "[0.         0.69314718 1.09861229 1.38629436 1.60943791 1.79175947\n",
      " 1.94591015 2.07944154 2.19722458]\n"
     ]
    }
   ],
   "source": [
    "# log\n",
    "import numpy as np\n",
    "b=np.arange(1,10)\n",
    "print(np.log(b))"
   ]
  },
  {
   "cell_type": "code",
   "execution_count": 8,
   "id": "51b22e62-152a-4d16-a19e-f23a90a8de0c",
   "metadata": {},
   "outputs": [
    {
     "name": "stdout",
     "output_type": "stream",
     "text": [
      "1.2618595071429148\n"
     ]
    }
   ],
   "source": [
    "#log with any base\n",
    "import numpy as np\n",
    "from math import log\n",
    "\n",
    "mylog=np.frompyfunc(log,2,1)\n",
    "\n",
    "print(mylog(4,3))"
   ]
  },
  {
   "cell_type": "markdown",
   "id": "a2667542-c259-49ba-9f9e-e055dffc4451",
   "metadata": {},
   "source": [
    "# Summation"
   ]
  },
  {
   "cell_type": "markdown",
   "id": "138066de-8a91-4d79-bc44-8180347987af",
   "metadata": {},
   "source": [
    " Add refers to addition between 2 elements, but sum refers to addition up to n elements."
   ]
  },
  {
   "cell_type": "code",
   "execution_count": 10,
   "id": "be2fa320-c578-4d9d-b1c1-0ce1e7500032",
   "metadata": {},
   "outputs": [
    {
     "name": "stdout",
     "output_type": "stream",
     "text": [
      "[12 14 16 18 20 22 24 26 28]\n"
     ]
    }
   ],
   "source": [
    "# simple add\n",
    "import numpy as np\n",
    "\n",
    "a=np.arange(1,10)\n",
    "b=np.arange(11,20)\n",
    "print(np.add(a,b))"
   ]
  },
  {
   "cell_type": "code",
   "execution_count": 3,
   "id": "66d3fec0-97c6-46a2-8920-12a33361eddf",
   "metadata": {},
   "outputs": [
    {
     "name": "stdout",
     "output_type": "stream",
     "text": [
      "180\n",
      "[11 12 13 14 15 16 17 18 19]\n"
     ]
    }
   ],
   "source": [
    "# sum\n",
    "import numpy as np\n",
    "\n",
    "a=np.arange(1,10)\n",
    "b=np.arange(11,20)\n",
    "print(np.sum([a,b]))\n",
    "print (b)"
   ]
  },
  {
   "cell_type": "code",
   "execution_count": 5,
   "id": "1b8ed03a-2389-4aea-a256-4e516b9bde7f",
   "metadata": {},
   "outputs": [
    {
     "name": "stdout",
     "output_type": "stream",
     "text": [
      "[ 45 135]\n"
     ]
    }
   ],
   "source": [
    "# sumation over axis\n",
    "import numpy as np\n",
    "\n",
    "a=np.arange(1,10)\n",
    "b=np.arange(11,20)\n",
    "print(np.sum([a,b],axis=1))"
   ]
  },
  {
   "cell_type": "markdown",
   "id": "03a303b7-3965-4307-8ba3-cc2275a6b6f1",
   "metadata": {},
   "source": [
    "# Cummulative Sum"
   ]
  },
  {
   "cell_type": "markdown",
   "id": "2b6cce81-c5c3-4ac5-89af-efdfcb941301",
   "metadata": {},
   "source": [
    "It is paratially adding the elements in an array.\n",
    "Eg.a=[1,2,3,4] the cum.sum. works as [1,1+2,1+2+3,1+2+3+4]."
   ]
  },
  {
   "cell_type": "code",
   "execution_count": 8,
   "id": "1d9278e9-adac-4aa5-926c-2bfb55441a13",
   "metadata": {},
   "outputs": [
    {
     "name": "stdout",
     "output_type": "stream",
     "text": [
      "[ 1  3  6 10 15 21 28 36 45]\n"
     ]
    }
   ],
   "source": [
    "import numpy as np\n",
    "\n",
    "a=np.arange(1,10)\n",
    "print(np.cumsum(a))"
   ]
  },
  {
   "cell_type": "markdown",
   "id": "fc59c9df-dcaf-4e46-b2cb-cd3a1c292620",
   "metadata": {},
   "source": [
    "# Products"
   ]
  },
  {
   "cell_type": "code",
   "execution_count": 10,
   "id": "69f98454-bcc3-413e-afe6-210701af5df7",
   "metadata": {},
   "outputs": [
    {
     "name": "stdout",
     "output_type": "stream",
     "text": [
      "504\n"
     ]
    }
   ],
   "source": [
    "# products of elements in an array.\n",
    "import numpy as np\n",
    "\n",
    "a=np.array([2,4,7,9])\n",
    "print(np.prod(a))"
   ]
  },
  {
   "cell_type": "code",
   "execution_count": 12,
   "id": "c9882748-31f3-407f-a8cd-57ef0be91d5d",
   "metadata": {},
   "outputs": [
    {
     "name": "stdout",
     "output_type": "stream",
     "text": [
      "4320\n"
     ]
    }
   ],
   "source": [
    "# product within 2 arrays\n",
    "import numpy as np\n",
    "my_list=[1,4,2,5]\n",
    "my_list1=[3,4,1,9]\n",
    "print(np.prod([my_list,my_list1]))"
   ]
  },
  {
   "cell_type": "code",
   "execution_count": 14,
   "id": "03e1e241-9030-4fb1-a527-ba1ffc419711",
   "metadata": {},
   "outputs": [
    {
     "name": "stdout",
     "output_type": "stream",
     "text": [
      "[ 6 96]\n"
     ]
    }
   ],
   "source": [
    "# products over axis.\n",
    "import numpy as np\n",
    "a=np.array([1,3,2])\n",
    "b=np.array([6,2,8])\n",
    "print(np.prod([a,b],axis=1))"
   ]
  },
  {
   "cell_type": "code",
   "execution_count": 15,
   "id": "d4516aba-58bc-46e6-93e0-d45e754314bc",
   "metadata": {},
   "outputs": [
    {
     "name": "stdout",
     "output_type": "stream",
     "text": [
      "[  3  15 120 240]\n"
     ]
    }
   ],
   "source": [
    "# cummilative sum\n",
    "import numpy as np\n",
    "a=np.array([3,5,8,2])\n",
    "print(np.cumprod(a))"
   ]
  },
  {
   "cell_type": "markdown",
   "id": "704109a5-d35e-4995-9adf-46a1add56eda",
   "metadata": {},
   "source": [
    "# Difference"
   ]
  },
  {
   "cell_type": "markdown",
   "id": "bfaa674f-c0f5-458a-9d7a-5d3c31d03b55",
   "metadata": {},
   "source": [
    "    Difference means subtracting successive elements."
   ]
  },
  {
   "cell_type": "code",
   "execution_count": 1,
   "id": "e594cd9a-b0a9-4a80-822c-618a9ec20bbe",
   "metadata": {},
   "outputs": [
    {
     "name": "stdout",
     "output_type": "stream",
     "text": [
      "[2 2 2 1]\n"
     ]
    }
   ],
   "source": [
    "import numpy as np\n",
    "\n",
    "a=np.array([2,4,6,8,9])\n",
    "print(np.diff(a))"
   ]
  },
  {
   "cell_type": "code",
   "execution_count": 4,
   "id": "25568c55-f5fa-4fbf-b87d-66cc08717805",
   "metadata": {},
   "outputs": [
    {
     "name": "stdout",
     "output_type": "stream",
     "text": [
      "[-1  0]\n"
     ]
    }
   ],
   "source": [
    "import numpy as np\n",
    " \n",
    "a=np.array([2,5,7,9])\n",
    "print(np.diff(a,n=2))"
   ]
  },
  {
   "cell_type": "markdown",
   "id": "45e9b976-2547-4958-b8e9-e6bfc9eff60c",
   "metadata": {},
   "source": [
    "# Finding LCM in Array"
   ]
  },
  {
   "cell_type": "code",
   "execution_count": 7,
   "id": "d2c962a3-bb87-49eb-9435-12e074dc47fa",
   "metadata": {},
   "outputs": [
    {
     "name": "stdout",
     "output_type": "stream",
     "text": [
      "1260\n"
     ]
    }
   ],
   "source": [
    "import numpy as np\n",
    "\n",
    "a=45\n",
    "b=84\n",
    "print(np.lcm(a,b))"
   ]
  },
  {
   "cell_type": "code",
   "execution_count": 2,
   "id": "46cce590-3fad-4b8b-b002-363f0b886020",
   "metadata": {},
   "outputs": [
    {
     "name": "stdout",
     "output_type": "stream",
     "text": [
      "18\n"
     ]
    }
   ],
   "source": [
    "# to find lowest multiple of values of array ,...we use reduce()\n",
    "\n",
    "import numpy as np\n",
    "\n",
    "a=np.array([3,6,9])\n",
    "\n",
    "print(np.lcm.reduce(a))"
   ]
  },
  {
   "cell_type": "markdown",
   "id": "e2a4c375-0c81-42b6-abc9-78bd00465b89",
   "metadata": {},
   "source": [
    "# Finding GCD in an array\n"
   ]
  },
  {
   "cell_type": "code",
   "execution_count": 4,
   "id": "73c04dd0-ef38-4f10-9b85-b31386f7c8d3",
   "metadata": {},
   "outputs": [
    {
     "name": "stdout",
     "output_type": "stream",
     "text": [
      "2\n"
     ]
    }
   ],
   "source": [
    "import numpy as np\n",
    "\n",
    "a=20\n",
    "b=34\n",
    "print(np.gcd(a,b))"
   ]
  },
  {
   "cell_type": "code",
   "execution_count": 6,
   "id": "8c2818cc-a327-4f65-8986-2a823ecd0598",
   "metadata": {},
   "outputs": [
    {
     "name": "stdout",
     "output_type": "stream",
     "text": [
      "5\n"
     ]
    }
   ],
   "source": [
    "# to find a gcd values for multiple array ...we use reduce()\n",
    "import numpy as np\n",
    "\n",
    "a=np.array([20,5,45,25])\n",
    "print(np.gcd.reduce(a))"
   ]
  },
  {
   "cell_type": "markdown",
   "id": "400e005b-bd48-4a95-ad97-42b875013b42",
   "metadata": {},
   "source": [
    "# ufuncs Trigonometic"
   ]
  },
  {
   "cell_type": "code",
   "execution_count": 4,
   "id": "1cc0e713-a510-4f13-aebc-76b9e0cd9f9a",
   "metadata": {},
   "outputs": [
    {
     "name": "stdout",
     "output_type": "stream",
     "text": [
      "1.0\n"
     ]
    }
   ],
   "source": [
    "# sin function\n",
    "import numpy as np\n",
    "\n",
    "a= np.sin(np.pi/2)\n",
    "print(a)"
   ]
  },
  {
   "cell_type": "code",
   "execution_count": 7,
   "id": "439b6095-82cc-4f35-a7b2-7244f76fa024",
   "metadata": {},
   "outputs": [
    {
     "name": "stdout",
     "output_type": "stream",
     "text": [
      "[1.         0.8660254  0.70710678 0.58778525]\n"
     ]
    }
   ],
   "source": [
    "# sin function in an array\n",
    "import numpy as np\n",
    "\n",
    "a=np.array([np.pi/2,np.pi/3,np.pi/4,np.pi/5])\n",
    "print(np.sin(a))"
   ]
  },
  {
   "cell_type": "code",
   "execution_count": 8,
   "id": "ed78e7c5-1783-4551-b42f-51b66e327a3f",
   "metadata": {},
   "outputs": [
    {
     "name": "stdout",
     "output_type": "stream",
     "text": [
      "[0.50614548 0.83775804 1.18682389 0.4712389 ]\n"
     ]
    }
   ],
   "source": [
    "# deg to rad\n",
    "import numpy as np\n",
    "\n",
    "b=np.array([29,48,68,27])\n",
    "a=np.deg2rad(b)\n",
    "print(a)"
   ]
  },
  {
   "cell_type": "code",
   "execution_count": 11,
   "id": "1c4c7ae6-a37f-47ff-9229-8f705b34eae2",
   "metadata": {},
   "outputs": [
    {
     "name": "stdout",
     "output_type": "stream",
     "text": [
      "[ 90. 360. 540.]\n"
     ]
    }
   ],
   "source": [
    "# radian to degree\n",
    "import numpy as np\n",
    "\n",
    "c= np.array([np.pi/2,2*np.pi,3*np.pi])\n",
    "d=np.rad2deg(c)\n",
    "print(d)\n"
   ]
  },
  {
   "cell_type": "markdown",
   "id": "5e3855a8-b586-4737-b3cc-0cb4bfad8b39",
   "metadata": {},
   "source": [
    "# Finding angles"
   ]
  },
  {
   "cell_type": "markdown",
   "id": "c3541b97-c69f-40a8-9231-71e6ecd11ddd",
   "metadata": {},
   "source": [
    " Numpy provides the angles based on the inverse form of sin,cos,tan as arcsin(),arccos(),arctan()"
   ]
  },
  {
   "cell_type": "code",
   "execution_count": 12,
   "id": "d8a85020-0a2e-403d-8623-99d6e1f21f55",
   "metadata": {},
   "outputs": [
    {
     "name": "stdout",
     "output_type": "stream",
     "text": [
      "1.5707963267948966\n"
     ]
    }
   ],
   "source": [
    "import numpy as np\n",
    "\n",
    "p=np.arcsin(1.0)\n",
    "print(p)"
   ]
  },
  {
   "cell_type": "code",
   "execution_count": 13,
   "id": "ca064350-a145-4b46-b2af-d4e9f58f4874",
   "metadata": {},
   "outputs": [
    {
     "name": "stdout",
     "output_type": "stream",
     "text": [
      "[ 1.57079633 -1.57079633  0.        ]\n"
     ]
    }
   ],
   "source": [
    "import numpy as np\n",
    "h=np.array([1,-1,0])\n",
    "print(np.arcsin(h))"
   ]
  },
  {
   "cell_type": "markdown",
   "id": "20af623a-4e42-48c6-a565-1ebd95a4dd50",
   "metadata": {},
   "source": [
    "# Hypotenuse"
   ]
  },
  {
   "cell_type": "markdown",
   "id": "2bddcf9e-d684-4207-b082-f85e5bc26017",
   "metadata": {},
   "source": [
    "    The functions are hypot()."
   ]
  },
  {
   "cell_type": "code",
   "execution_count": 14,
   "id": "dde37943-c641-434c-b719-f3fd18773928",
   "metadata": {},
   "outputs": [
    {
     "name": "stdout",
     "output_type": "stream",
     "text": [
      "15.620499351813308\n"
     ]
    }
   ],
   "source": [
    "import numpy as np\n",
    "\n",
    "a=10\n",
    "b=12\n",
    "\n",
    "c=np.hypot(a,b)\n",
    "print(c)"
   ]
  },
  {
   "cell_type": "markdown",
   "id": "48638625-7c70-443a-8af0-58b131a25aba",
   "metadata": {},
   "source": [
    "# Numpy Hyperbolic function"
   ]
  },
  {
   "cell_type": "markdown",
   "id": "2e7ac900-245a-423b-abb7-1ae0a6d8f8e4",
   "metadata": {},
   "source": [
    " The hyperbolic function can be given by\n",
    "* sinh\n",
    "* cosh\n",
    "* tanh"
   ]
  },
  {
   "cell_type": "code",
   "execution_count": 15,
   "id": "22656e0a-bffc-410c-9b58-91a8b1778631",
   "metadata": {},
   "outputs": [
    {
     "name": "stdout",
     "output_type": "stream",
     "text": [
      "2.3012989023072947\n"
     ]
    }
   ],
   "source": [
    "import numpy as np\n",
    "\n",
    "a=np.sinh(np.pi/2)\n",
    "print(a)"
   ]
  },
  {
   "cell_type": "markdown",
   "id": "1e6029b3-217d-436e-a04d-99ad58993232",
   "metadata": {},
   "source": [
    "# SET"
   ]
  },
  {
   "cell_type": "markdown",
   "id": "57f8e792-be38-46ff-9314-ea77a4d17fbb",
   "metadata": {},
   "source": [
    "    The set are the collection of elements.The set will be always 1D. The function is\n",
    "* unique()"
   ]
  },
  {
   "cell_type": "code",
   "execution_count": 18,
   "id": "88357bcb-8d56-4b7c-8c0d-2a76ff0b8ccb",
   "metadata": {},
   "outputs": [
    {
     "name": "stdout",
     "output_type": "stream",
     "text": [
      "[28 53 57 68]\n"
     ]
    }
   ],
   "source": [
    "import numpy as np\n",
    "\n",
    "c=np.array([57,57,28,68,68,28,53])\n",
    "d=np.unique(c)\n",
    "print(d)"
   ]
  },
  {
   "cell_type": "code",
   "execution_count": 19,
   "id": "1945bc45-cbc4-4d0c-b5d1-9705971cc443",
   "metadata": {},
   "outputs": [
    {
     "name": "stdout",
     "output_type": "stream",
     "text": [
      "[1 2 3 4 5 6 7 8 9]\n"
     ]
    }
   ],
   "source": [
    "# Union\n",
    "\n",
    "import numpy as np\n",
    "\n",
    "a=np.array([1,4,6,9,3,7])\n",
    "b=np.array([4,1,6,2,8,2,5])\n",
    "\n",
    "print(np.union1d(a,b))"
   ]
  },
  {
   "cell_type": "code",
   "execution_count": 20,
   "id": "59ad851d-77f6-4430-8761-6d0b9b0d51b5",
   "metadata": {},
   "outputs": [
    {
     "name": "stdout",
     "output_type": "stream",
     "text": [
      "[1 2 4 6]\n"
     ]
    }
   ],
   "source": [
    "# intersection\n",
    "import numpy as np\n",
    "\n",
    "a=np.array([1,4,6,9,3,7])\n",
    "b=np.array([4,1,6,2,8,2,5])\n",
    "\n",
    "print(np.intersect1d(a,b,assume_unique=True))"
   ]
  },
  {
   "cell_type": "code",
   "execution_count": 21,
   "id": "438d54fa-cba0-4189-92f6-275a0097a7a1",
   "metadata": {},
   "outputs": [
    {
     "name": "stdout",
     "output_type": "stream",
     "text": [
      "[9 3 7]\n"
     ]
    }
   ],
   "source": [
    "# difference\n",
    "\n",
    "import numpy as np\n",
    "\n",
    "a=np.array([1,4,6,9,3,7])\n",
    "b=np.array([4,1,6,2,8,2,5])\n",
    "\n",
    "print(np.setdiff1d(a,b,assume_unique=True))\n"
   ]
  },
  {
   "cell_type": "markdown",
   "id": "25308b3f-3b43-42ff-8ecb-f930560e2098",
   "metadata": {},
   "source": [
    "# Symmertic difference"
   ]
  },
  {
   "cell_type": "markdown",
   "id": "8c6e8196-b620-4862-9c20-b38bac5d4a4c",
   "metadata": {},
   "source": [
    "    To find the values which are not common to the both the sets."
   ]
  },
  {
   "cell_type": "code",
   "execution_count": 22,
   "id": "c98735c8-7ae6-4418-bfd8-b2484602f249",
   "metadata": {},
   "outputs": [
    {
     "name": "stdout",
     "output_type": "stream",
     "text": [
      "[3 5 7 8 9]\n"
     ]
    }
   ],
   "source": [
    "import numpy as np\n",
    "\n",
    "a=np.array([1,4,6,9,3,7])\n",
    "b=np.array([4,1,6,2,8,2,5])\n",
    "\n",
    "print(np.setxor1d(a,b,assume_unique=True))"
   ]
  }
 ],
 "metadata": {
  "kernelspec": {
   "display_name": "Python 3 (ipykernel)",
   "language": "python",
   "name": "python3"
  },
  "language_info": {
   "codemirror_mode": {
    "name": "ipython",
    "version": 3
   },
   "file_extension": ".py",
   "mimetype": "text/x-python",
   "name": "python",
   "nbconvert_exporter": "python",
   "pygments_lexer": "ipython3",
   "version": "3.12.7"
  }
 },
 "nbformat": 4,
 "nbformat_minor": 5
}
